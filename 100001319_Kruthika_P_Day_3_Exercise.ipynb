{
  "nbformat": 4,
  "nbformat_minor": 0,
  "metadata": {
    "colab": {
      "provenance": [],
      "authorship_tag": "ABX9TyPxhw6la5ZIofUkF/bFfk+B",
      "include_colab_link": true
    },
    "kernelspec": {
      "name": "python3",
      "display_name": "Python 3"
    },
    "language_info": {
      "name": "python"
    }
  },
  "cells": [
    {
      "cell_type": "markdown",
      "metadata": {
        "id": "view-in-github",
        "colab_type": "text"
      },
      "source": [
        "<a href=\"https://colab.research.google.com/github/kruthi03/wind-speed/blob/main/100001319_Kruthika_P_Day_3_Exercise.ipynb\" target=\"_parent\"><img src=\"https://colab.research.google.com/assets/colab-badge.svg\" alt=\"Open In Colab\"/></a>"
      ]
    },
    {
      "cell_type": "markdown",
      "source": [
        "Question :\n",
        "Dataset: Use the Iris dataset from Day 3 or a sampled subset.\n",
        "\n",
        "\n",
        "1. T-Test:\n",
        "\t\t1. Compare the mean petal lengths of two species (e.g., Setosa vs. Versicolor).\n",
        "\t\t2. Null Hypothesis: Means are equal.\n",
        "\t\t3. Use an independent t-test.\n",
        "2. Z-Test:\n",
        "\t\t1. Test if the mean sepal length of one species equals a specific value (e.g., 5.0).\n",
        "\t\t2. Null Hypothesis: Mean equals 5.0.\n",
        "\t\t3. Perform only if population standard deviation is known or n>30n > 30n>30.\n",
        "3. ANOVA:\n",
        "\t\t1. Compare mean petal widths across all three species.\n",
        "\t\t2. Null Hypothesis: All means are equal.\n",
        "4. Correlation/Regression:\n",
        "\t\t1. Explore the relationship between sepal length and petal length."
      ],
      "metadata": {
        "id": "j1uWd1cwK8iT"
      }
    },
    {
      "cell_type": "markdown",
      "source": [
        "Step 1: Loaded the data set and overviewed the data"
      ],
      "metadata": {
        "id": "azKlFz0UKqRD"
      }
    },
    {
      "cell_type": "code",
      "source": [
        "import seaborn as sns\n",
        "import pandas as pd\n",
        "import numpy as np\n",
        "\n",
        "\n",
        "iris = sns.load_dataset('iris')\n",
        "\n",
        "print(\"First few rows of the dataset:\")\n",
        "print(iris.head())\n"
      ],
      "metadata": {
        "colab": {
          "base_uri": "https://localhost:8080/"
        },
        "id": "7dCgwJLPKz3E",
        "outputId": "eb03f23d-bf21-4fde-b716-fb01c79ca71b"
      },
      "execution_count": 6,
      "outputs": [
        {
          "output_type": "stream",
          "name": "stdout",
          "text": [
            "First few rows of the dataset:\n",
            "   sepal_length  sepal_width  petal_length  petal_width species\n",
            "0           5.1          3.5           1.4          0.2  setosa\n",
            "1           4.9          3.0           1.4          0.2  setosa\n",
            "2           4.7          3.2           1.3          0.2  setosa\n",
            "3           4.6          3.1           1.5          0.2  setosa\n",
            "4           5.0          3.6           1.4          0.2  setosa\n"
          ]
        }
      ]
    },
    {
      "cell_type": "markdown",
      "source": [
        "Step 2: perfomed the T-Test :\n",
        "\n",
        " Compared the mean of the petal lengths of Setosa and Versicolor\n",
        "\n",
        "    Null Hypothesis (H₀): The mean petal lengths of the two species are equal.\n",
        "    Alternative Hypothesis (H₁): The mean petal lengths of the two species are not equal.\n",
        "    Use an independent t-test."
      ],
      "metadata": {
        "id": "G1r7QEqpLHhq"
      }
    },
    {
      "cell_type": "code",
      "source": [
        "from scipy.stats import ttest_ind\n",
        "\n",
        "setosa_petal_length = iris[iris['species'] == 'setosa']['petal_length']\n",
        "versicolor_petal_length = iris[iris['species'] == 'versicolor']['petal_length']\n",
        "\n",
        "t_stat, p_value = ttest_ind(setosa_petal_length, versicolor_petal_length)\n",
        "\n",
        "print(f\"T-Test Results:\")\n",
        "print(f\"T-Statistic: {t_stat:.3f}\")\n",
        "print(f\"P-Value: {p_value:.3f}\")\n",
        "\n",
        "if p_value < 0.05:\n",
        "    print(\"Reject the null hypothesis: The means are significantly different.\")\n",
        "else:\n",
        "    print(\"Fail to reject the null hypothesis: No significant difference in means.\")\n"
      ],
      "metadata": {
        "colab": {
          "base_uri": "https://localhost:8080/"
        },
        "id": "JO74u0oWLny_",
        "outputId": "27aef34c-51f1-4f33-f907-b06fe907e3af"
      },
      "execution_count": 7,
      "outputs": [
        {
          "output_type": "stream",
          "name": "stdout",
          "text": [
            "T-Test Results:\n",
            "T-Statistic: -39.493\n",
            "P-Value: 0.000\n",
            "Reject the null hypothesis: The means are significantly different.\n"
          ]
        }
      ]
    },
    {
      "cell_type": "markdown",
      "source": [
        "Step 3: Z-Test\n",
        "\n",
        "    Did a test to understand if the mean sample length of the species Cosa is equal to the value of 5.0\n",
        "    Null Hypothesis (H₀): The mean sepal length of Setosa equals 5.0.\n",
        "    Alternative Hypothesis (H₁): The mean sepal length of Setosa does not equal 5.\n",
        "\n",
        "    "
      ],
      "metadata": {
        "id": "ES4ppMTELu4G"
      }
    },
    {
      "cell_type": "code",
      "source": [
        "from statsmodels.stats.weightstats import ztest\n",
        "\n",
        "#setosa_sepal_length = iris[iris['species'] == 'setosa']['sepal_length']\n",
        "setosa_sepal_length = iris[iris['species'] == 'setosa']['sepal_length']\n",
        "\n",
        "z_stat, p_value = ztest(setosa_sepal_length, value=5.0)\n",
        "\n",
        "print(f\"Z-Test Results:\")\n",
        "print(f\"Z-Statistic: {z_stat:.3f}\")\n",
        "print(f\"P-Value: {p_value:.3f}\")\n",
        "\n",
        "if p_value < 0.05:\n",
        "    print(\"Reject the null hypothesis: The mean sepal length is significantly different from 5.0.\")\n",
        "else:\n",
        "    print(\"Fail to reject the null hypothesis: The mean sepal length is not significantly different from 5.0.\")\n"
      ],
      "metadata": {
        "colab": {
          "base_uri": "https://localhost:8080/"
        },
        "id": "dIFI-U5qiJ0b",
        "outputId": "2ae073cb-8a5d-48bc-bd03-bccdfcc76ccd"
      },
      "execution_count": 8,
      "outputs": [
        {
          "output_type": "stream",
          "name": "stdout",
          "text": [
            "Z-Test Results:\n",
            "Z-Statistic: 0.120\n",
            "P-Value: 0.904\n",
            "Fail to reject the null hypothesis: The mean sepal length is not significantly different from 5.0.\n"
          ]
        }
      ]
    },
    {
      "cell_type": "markdown",
      "source": [
        "Step 4: ANOVA\n",
        "\n",
        "Compared mean petal widths across all three species.\n",
        "\n",
        "    Null Hypothesis (H₀): The mean petal widths of all three species are equal.\n",
        "    Alternative Hypothesis (H₁): At least one species has a different mean petal width."
      ],
      "metadata": {
        "id": "qdw5kjeKieGl"
      }
    },
    {
      "cell_type": "code",
      "source": [
        "from scipy.stats import f_oneway\n",
        "\n",
        "setosa_petal_width = iris[iris['species'] == 'setosa']['petal_width']\n",
        "versicolor_petal_width = iris[iris['species'] == 'versicolor']['petal_width']\n",
        "virginica_petal_width = iris[iris['species'] == 'virginica']['petal_width']\n",
        "\n",
        "f_stat, p_value = f_oneway(setosa_petal_width, versicolor_petal_width, virginica_petal_width)\n",
        "\n",
        "print(f\"ANOVA Results:\")\n",
        "print(f\"F-Statistic: {f_stat:.3f}\")\n",
        "print(f\"P-Value: {p_value:.3f}\")\n",
        "\n",
        "if p_value < 0.05:\n",
        "    print(\"Reject the null hypothesis: At least one species has a significantly different mean petal width.\")\n",
        "else:\n",
        "    print(\"Fail to reject the null hypothesis: No significant difference in mean petal widths.\")\n"
      ],
      "metadata": {
        "colab": {
          "base_uri": "https://localhost:8080/"
        },
        "id": "wDpfViTUi8Rl",
        "outputId": "84e46c13-007f-4163-feeb-3a89995ad1e1"
      },
      "execution_count": 9,
      "outputs": [
        {
          "output_type": "stream",
          "name": "stdout",
          "text": [
            "ANOVA Results:\n",
            "F-Statistic: 960.007\n",
            "P-Value: 0.000\n",
            "Reject the null hypothesis: At least one species has a significantly different mean petal width.\n"
          ]
        }
      ]
    },
    {
      "cell_type": "markdown",
      "source": [
        "Step 5: Correlation and Regression\n",
        "\n",
        "Explored the relationship between sepal length and petal length.\n",
        "\n",
        "    Calculated the correlation coefficient.\n",
        "    Performed linear regression."
      ],
      "metadata": {
        "id": "471mEVrsjETp"
      }
    },
    {
      "cell_type": "code",
      "source": [
        "from scipy.stats import pearsonr\n",
        "import statsmodels.api as sm\n",
        "\n",
        "sepal_length = iris['sepal_length']\n",
        "petal_length = iris['petal_length']\n",
        "\n",
        "correlation, p_value = pearsonr(sepal_length, petal_length)\n",
        "\n",
        "print(f\"Correlation Analysis:\")\n",
        "print(f\"Correlation Coefficient: {correlation:.3f}\")\n",
        "print(f\"P-Value: {p_value:.3f}\")\n",
        "\n",
        "\n",
        "X = sm.add_constant(sepal_length)\n",
        "model = sm.OLS(petal_length, X).fit()\n",
        "\n",
        "print(\"\\nLinear Regression Summary:\")\n",
        "print(model.summary())\n"
      ],
      "metadata": {
        "colab": {
          "base_uri": "https://localhost:8080/"
        },
        "id": "3Pc16glEjDo7",
        "outputId": "53e9eaf7-3885-4d55-c906-86977a0abd64"
      },
      "execution_count": 10,
      "outputs": [
        {
          "output_type": "stream",
          "name": "stdout",
          "text": [
            "Correlation Analysis:\n",
            "Correlation Coefficient: 0.872\n",
            "P-Value: 0.000\n",
            "\n",
            "Linear Regression Summary:\n",
            "                            OLS Regression Results                            \n",
            "==============================================================================\n",
            "Dep. Variable:           petal_length   R-squared:                       0.760\n",
            "Model:                            OLS   Adj. R-squared:                  0.758\n",
            "Method:                 Least Squares   F-statistic:                     468.6\n",
            "Date:                Sun, 24 Nov 2024   Prob (F-statistic):           1.04e-47\n",
            "Time:                        19:02:18   Log-Likelihood:                -190.57\n",
            "No. Observations:                 150   AIC:                             385.1\n",
            "Df Residuals:                     148   BIC:                             391.2\n",
            "Df Model:                           1                                         \n",
            "Covariance Type:            nonrobust                                         \n",
            "================================================================================\n",
            "                   coef    std err          t      P>|t|      [0.025      0.975]\n",
            "--------------------------------------------------------------------------------\n",
            "const           -7.1014      0.507    -14.016      0.000      -8.103      -6.100\n",
            "sepal_length     1.8584      0.086     21.646      0.000       1.689       2.028\n",
            "==============================================================================\n",
            "Omnibus:                        0.253   Durbin-Watson:                   1.204\n",
            "Prob(Omnibus):                  0.881   Jarque-Bera (JB):                0.386\n",
            "Skew:                          -0.082   Prob(JB):                        0.824\n",
            "Kurtosis:                       2.812   Cond. No.                         43.4\n",
            "==============================================================================\n",
            "\n",
            "Notes:\n",
            "[1] Standard Errors assume that the covariance matrix of the errors is correctly specified.\n"
          ]
        }
      ]
    }
  ]
}