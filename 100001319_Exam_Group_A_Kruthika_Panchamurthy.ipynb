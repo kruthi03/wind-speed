{
  "nbformat": 4,
  "nbformat_minor": 0,
  "metadata": {
    "colab": {
      "provenance": [],
      "authorship_tag": "ABX9TyOXyqwuXNur1VpwwLWBbDJH",
      "include_colab_link": true
    },
    "kernelspec": {
      "name": "python3",
      "display_name": "Python 3"
    },
    "language_info": {
      "name": "python"
    }
  },
  "cells": [
    {
      "cell_type": "markdown",
      "metadata": {
        "id": "view-in-github",
        "colab_type": "text"
      },
      "source": [
        "<a href=\"https://colab.research.google.com/github/kruthi03/wind-speed/blob/Stats%26ML/100001319_Exam_Group_A_Kruthika_Panchamurthy.ipynb\" target=\"_parent\"><img src=\"https://colab.research.google.com/assets/colab-badge.svg\" alt=\"Open In Colab\"/></a>"
      ]
    },
    {
      "cell_type": "markdown",
      "source": [
        "1. Problem Statement\n",
        "\n",
        "The objective is to develop a predictive model that determines the likelihood of heart disease based on a patient's health metrics and diagnostic results. By analyzing key medical features such as age, cholesterol levels, and chest pain types, the task involves preprocessing the data, selecting relevant features, and implementing machine learning models to accurately classify patients as having heart disease or not. The ultimate goal is to create a reliable and interpretable model that can assist in early diagnosis and clinical decision-making."
      ],
      "metadata": {
        "id": "LWUbygw7VcT9"
      }
    },
    {
      "cell_type": "markdown",
      "source": [
        "Objectives:\n",
        "\n",
        "1. Prepare and Clean the Data:\n",
        "    * Handle missing values and normalize numerical data for model training.\n",
        "\n",
        "2. Train and Evaluate Models:\n",
        "    * Train a Logistic Regression model and a Neural Network to predict heart disease, then evaluate their performance.\n",
        "    \n",
        "3. Compare Models:\n",
        "    * Analyze feature importance for the Logistic Regression model and compare both models using performance metrics like accuracy and confusion matrices.\n",
        "\n",
        "\n",
        "\n",
        "\n",
        "\n",
        "\n",
        "\n",
        "\n",
        "\n",
        "\n"
      ],
      "metadata": {
        "id": "h_m77n5dUHc8"
      }
    },
    {
      "cell_type": "code",
      "source": [
        "import pandas as pd\n",
        "data = pd.read_csv('heart.csv')\n",
        "\n",
        "# Display the first few rows of the dataset\n",
        "data.head()"
      ],
      "metadata": {
        "colab": {
          "base_uri": "https://localhost:8080/",
          "height": 206
        },
        "id": "p_O9n75vPEGH",
        "outputId": "13c2220e-f66c-4835-ebee-7909027b5a4b"
      },
      "execution_count": 50,
      "outputs": [
        {
          "output_type": "execute_result",
          "data": {
            "text/plain": [
              "   age  sex  cp  trestbps  chol  fbs  restecg thalach  exang  oldpeak  slope  \\\n",
              "0   63    1   3       145   233    1        0     150      0      2.3      0   \n",
              "1   37    1   2       130   250    0        1     187      0      3.5      0   \n",
              "2   41    0   1       130   204    0        0     172      0      1.4      2   \n",
              "3   56    1   1       120   236    0        1     178      0      0.8      2   \n",
              "4   57    0   0       120   354    0        1     163      1      0.6      2   \n",
              "\n",
              "   ca  thal  target  \n",
              "0   0     1       1  \n",
              "1   0     2       1  \n",
              "2   0     2       1  \n",
              "3   0     2       1  \n",
              "4   0     2       1  "
            ],
            "text/html": [
              "\n",
              "  <div id=\"df-a9f7afa7-2786-4c49-a01f-d9cb4ad67695\" class=\"colab-df-container\">\n",
              "    <div>\n",
              "<style scoped>\n",
              "    .dataframe tbody tr th:only-of-type {\n",
              "        vertical-align: middle;\n",
              "    }\n",
              "\n",
              "    .dataframe tbody tr th {\n",
              "        vertical-align: top;\n",
              "    }\n",
              "\n",
              "    .dataframe thead th {\n",
              "        text-align: right;\n",
              "    }\n",
              "</style>\n",
              "<table border=\"1\" class=\"dataframe\">\n",
              "  <thead>\n",
              "    <tr style=\"text-align: right;\">\n",
              "      <th></th>\n",
              "      <th>age</th>\n",
              "      <th>sex</th>\n",
              "      <th>cp</th>\n",
              "      <th>trestbps</th>\n",
              "      <th>chol</th>\n",
              "      <th>fbs</th>\n",
              "      <th>restecg</th>\n",
              "      <th>thalach</th>\n",
              "      <th>exang</th>\n",
              "      <th>oldpeak</th>\n",
              "      <th>slope</th>\n",
              "      <th>ca</th>\n",
              "      <th>thal</th>\n",
              "      <th>target</th>\n",
              "    </tr>\n",
              "  </thead>\n",
              "  <tbody>\n",
              "    <tr>\n",
              "      <th>0</th>\n",
              "      <td>63</td>\n",
              "      <td>1</td>\n",
              "      <td>3</td>\n",
              "      <td>145</td>\n",
              "      <td>233</td>\n",
              "      <td>1</td>\n",
              "      <td>0</td>\n",
              "      <td>150</td>\n",
              "      <td>0</td>\n",
              "      <td>2.3</td>\n",
              "      <td>0</td>\n",
              "      <td>0</td>\n",
              "      <td>1</td>\n",
              "      <td>1</td>\n",
              "    </tr>\n",
              "    <tr>\n",
              "      <th>1</th>\n",
              "      <td>37</td>\n",
              "      <td>1</td>\n",
              "      <td>2</td>\n",
              "      <td>130</td>\n",
              "      <td>250</td>\n",
              "      <td>0</td>\n",
              "      <td>1</td>\n",
              "      <td>187</td>\n",
              "      <td>0</td>\n",
              "      <td>3.5</td>\n",
              "      <td>0</td>\n",
              "      <td>0</td>\n",
              "      <td>2</td>\n",
              "      <td>1</td>\n",
              "    </tr>\n",
              "    <tr>\n",
              "      <th>2</th>\n",
              "      <td>41</td>\n",
              "      <td>0</td>\n",
              "      <td>1</td>\n",
              "      <td>130</td>\n",
              "      <td>204</td>\n",
              "      <td>0</td>\n",
              "      <td>0</td>\n",
              "      <td>172</td>\n",
              "      <td>0</td>\n",
              "      <td>1.4</td>\n",
              "      <td>2</td>\n",
              "      <td>0</td>\n",
              "      <td>2</td>\n",
              "      <td>1</td>\n",
              "    </tr>\n",
              "    <tr>\n",
              "      <th>3</th>\n",
              "      <td>56</td>\n",
              "      <td>1</td>\n",
              "      <td>1</td>\n",
              "      <td>120</td>\n",
              "      <td>236</td>\n",
              "      <td>0</td>\n",
              "      <td>1</td>\n",
              "      <td>178</td>\n",
              "      <td>0</td>\n",
              "      <td>0.8</td>\n",
              "      <td>2</td>\n",
              "      <td>0</td>\n",
              "      <td>2</td>\n",
              "      <td>1</td>\n",
              "    </tr>\n",
              "    <tr>\n",
              "      <th>4</th>\n",
              "      <td>57</td>\n",
              "      <td>0</td>\n",
              "      <td>0</td>\n",
              "      <td>120</td>\n",
              "      <td>354</td>\n",
              "      <td>0</td>\n",
              "      <td>1</td>\n",
              "      <td>163</td>\n",
              "      <td>1</td>\n",
              "      <td>0.6</td>\n",
              "      <td>2</td>\n",
              "      <td>0</td>\n",
              "      <td>2</td>\n",
              "      <td>1</td>\n",
              "    </tr>\n",
              "  </tbody>\n",
              "</table>\n",
              "</div>\n",
              "    <div class=\"colab-df-buttons\">\n",
              "\n",
              "  <div class=\"colab-df-container\">\n",
              "    <button class=\"colab-df-convert\" onclick=\"convertToInteractive('df-a9f7afa7-2786-4c49-a01f-d9cb4ad67695')\"\n",
              "            title=\"Convert this dataframe to an interactive table.\"\n",
              "            style=\"display:none;\">\n",
              "\n",
              "  <svg xmlns=\"http://www.w3.org/2000/svg\" height=\"24px\" viewBox=\"0 -960 960 960\">\n",
              "    <path d=\"M120-120v-720h720v720H120Zm60-500h600v-160H180v160Zm220 220h160v-160H400v160Zm0 220h160v-160H400v160ZM180-400h160v-160H180v160Zm440 0h160v-160H620v160ZM180-180h160v-160H180v160Zm440 0h160v-160H620v160Z\"/>\n",
              "  </svg>\n",
              "    </button>\n",
              "\n",
              "  <style>\n",
              "    .colab-df-container {\n",
              "      display:flex;\n",
              "      gap: 12px;\n",
              "    }\n",
              "\n",
              "    .colab-df-convert {\n",
              "      background-color: #E8F0FE;\n",
              "      border: none;\n",
              "      border-radius: 50%;\n",
              "      cursor: pointer;\n",
              "      display: none;\n",
              "      fill: #1967D2;\n",
              "      height: 32px;\n",
              "      padding: 0 0 0 0;\n",
              "      width: 32px;\n",
              "    }\n",
              "\n",
              "    .colab-df-convert:hover {\n",
              "      background-color: #E2EBFA;\n",
              "      box-shadow: 0px 1px 2px rgba(60, 64, 67, 0.3), 0px 1px 3px 1px rgba(60, 64, 67, 0.15);\n",
              "      fill: #174EA6;\n",
              "    }\n",
              "\n",
              "    .colab-df-buttons div {\n",
              "      margin-bottom: 4px;\n",
              "    }\n",
              "\n",
              "    [theme=dark] .colab-df-convert {\n",
              "      background-color: #3B4455;\n",
              "      fill: #D2E3FC;\n",
              "    }\n",
              "\n",
              "    [theme=dark] .colab-df-convert:hover {\n",
              "      background-color: #434B5C;\n",
              "      box-shadow: 0px 1px 3px 1px rgba(0, 0, 0, 0.15);\n",
              "      filter: drop-shadow(0px 1px 2px rgba(0, 0, 0, 0.3));\n",
              "      fill: #FFFFFF;\n",
              "    }\n",
              "  </style>\n",
              "\n",
              "    <script>\n",
              "      const buttonEl =\n",
              "        document.querySelector('#df-a9f7afa7-2786-4c49-a01f-d9cb4ad67695 button.colab-df-convert');\n",
              "      buttonEl.style.display =\n",
              "        google.colab.kernel.accessAllowed ? 'block' : 'none';\n",
              "\n",
              "      async function convertToInteractive(key) {\n",
              "        const element = document.querySelector('#df-a9f7afa7-2786-4c49-a01f-d9cb4ad67695');\n",
              "        const dataTable =\n",
              "          await google.colab.kernel.invokeFunction('convertToInteractive',\n",
              "                                                    [key], {});\n",
              "        if (!dataTable) return;\n",
              "\n",
              "        const docLinkHtml = 'Like what you see? Visit the ' +\n",
              "          '<a target=\"_blank\" href=https://colab.research.google.com/notebooks/data_table.ipynb>data table notebook</a>'\n",
              "          + ' to learn more about interactive tables.';\n",
              "        element.innerHTML = '';\n",
              "        dataTable['output_type'] = 'display_data';\n",
              "        await google.colab.output.renderOutput(dataTable, element);\n",
              "        const docLink = document.createElement('div');\n",
              "        docLink.innerHTML = docLinkHtml;\n",
              "        element.appendChild(docLink);\n",
              "      }\n",
              "    </script>\n",
              "  </div>\n",
              "\n",
              "\n",
              "<div id=\"df-b4051b1f-9f41-4349-9687-643dfaa4d49a\">\n",
              "  <button class=\"colab-df-quickchart\" onclick=\"quickchart('df-b4051b1f-9f41-4349-9687-643dfaa4d49a')\"\n",
              "            title=\"Suggest charts\"\n",
              "            style=\"display:none;\">\n",
              "\n",
              "<svg xmlns=\"http://www.w3.org/2000/svg\" height=\"24px\"viewBox=\"0 0 24 24\"\n",
              "     width=\"24px\">\n",
              "    <g>\n",
              "        <path d=\"M19 3H5c-1.1 0-2 .9-2 2v14c0 1.1.9 2 2 2h14c1.1 0 2-.9 2-2V5c0-1.1-.9-2-2-2zM9 17H7v-7h2v7zm4 0h-2V7h2v10zm4 0h-2v-4h2v4z\"/>\n",
              "    </g>\n",
              "</svg>\n",
              "  </button>\n",
              "\n",
              "<style>\n",
              "  .colab-df-quickchart {\n",
              "      --bg-color: #E8F0FE;\n",
              "      --fill-color: #1967D2;\n",
              "      --hover-bg-color: #E2EBFA;\n",
              "      --hover-fill-color: #174EA6;\n",
              "      --disabled-fill-color: #AAA;\n",
              "      --disabled-bg-color: #DDD;\n",
              "  }\n",
              "\n",
              "  [theme=dark] .colab-df-quickchart {\n",
              "      --bg-color: #3B4455;\n",
              "      --fill-color: #D2E3FC;\n",
              "      --hover-bg-color: #434B5C;\n",
              "      --hover-fill-color: #FFFFFF;\n",
              "      --disabled-bg-color: #3B4455;\n",
              "      --disabled-fill-color: #666;\n",
              "  }\n",
              "\n",
              "  .colab-df-quickchart {\n",
              "    background-color: var(--bg-color);\n",
              "    border: none;\n",
              "    border-radius: 50%;\n",
              "    cursor: pointer;\n",
              "    display: none;\n",
              "    fill: var(--fill-color);\n",
              "    height: 32px;\n",
              "    padding: 0;\n",
              "    width: 32px;\n",
              "  }\n",
              "\n",
              "  .colab-df-quickchart:hover {\n",
              "    background-color: var(--hover-bg-color);\n",
              "    box-shadow: 0 1px 2px rgba(60, 64, 67, 0.3), 0 1px 3px 1px rgba(60, 64, 67, 0.15);\n",
              "    fill: var(--button-hover-fill-color);\n",
              "  }\n",
              "\n",
              "  .colab-df-quickchart-complete:disabled,\n",
              "  .colab-df-quickchart-complete:disabled:hover {\n",
              "    background-color: var(--disabled-bg-color);\n",
              "    fill: var(--disabled-fill-color);\n",
              "    box-shadow: none;\n",
              "  }\n",
              "\n",
              "  .colab-df-spinner {\n",
              "    border: 2px solid var(--fill-color);\n",
              "    border-color: transparent;\n",
              "    border-bottom-color: var(--fill-color);\n",
              "    animation:\n",
              "      spin 1s steps(1) infinite;\n",
              "  }\n",
              "\n",
              "  @keyframes spin {\n",
              "    0% {\n",
              "      border-color: transparent;\n",
              "      border-bottom-color: var(--fill-color);\n",
              "      border-left-color: var(--fill-color);\n",
              "    }\n",
              "    20% {\n",
              "      border-color: transparent;\n",
              "      border-left-color: var(--fill-color);\n",
              "      border-top-color: var(--fill-color);\n",
              "    }\n",
              "    30% {\n",
              "      border-color: transparent;\n",
              "      border-left-color: var(--fill-color);\n",
              "      border-top-color: var(--fill-color);\n",
              "      border-right-color: var(--fill-color);\n",
              "    }\n",
              "    40% {\n",
              "      border-color: transparent;\n",
              "      border-right-color: var(--fill-color);\n",
              "      border-top-color: var(--fill-color);\n",
              "    }\n",
              "    60% {\n",
              "      border-color: transparent;\n",
              "      border-right-color: var(--fill-color);\n",
              "    }\n",
              "    80% {\n",
              "      border-color: transparent;\n",
              "      border-right-color: var(--fill-color);\n",
              "      border-bottom-color: var(--fill-color);\n",
              "    }\n",
              "    90% {\n",
              "      border-color: transparent;\n",
              "      border-bottom-color: var(--fill-color);\n",
              "    }\n",
              "  }\n",
              "</style>\n",
              "\n",
              "  <script>\n",
              "    async function quickchart(key) {\n",
              "      const quickchartButtonEl =\n",
              "        document.querySelector('#' + key + ' button');\n",
              "      quickchartButtonEl.disabled = true;  // To prevent multiple clicks.\n",
              "      quickchartButtonEl.classList.add('colab-df-spinner');\n",
              "      try {\n",
              "        const charts = await google.colab.kernel.invokeFunction(\n",
              "            'suggestCharts', [key], {});\n",
              "      } catch (error) {\n",
              "        console.error('Error during call to suggestCharts:', error);\n",
              "      }\n",
              "      quickchartButtonEl.classList.remove('colab-df-spinner');\n",
              "      quickchartButtonEl.classList.add('colab-df-quickchart-complete');\n",
              "    }\n",
              "    (() => {\n",
              "      let quickchartButtonEl =\n",
              "        document.querySelector('#df-b4051b1f-9f41-4349-9687-643dfaa4d49a button');\n",
              "      quickchartButtonEl.style.display =\n",
              "        google.colab.kernel.accessAllowed ? 'block' : 'none';\n",
              "    })();\n",
              "  </script>\n",
              "</div>\n",
              "\n",
              "    </div>\n",
              "  </div>\n"
            ],
            "application/vnd.google.colaboratory.intrinsic+json": {
              "type": "dataframe",
              "variable_name": "data",
              "summary": "{\n  \"name\": \"data\",\n  \"rows\": 303,\n  \"fields\": [\n    {\n      \"column\": \"age\",\n      \"properties\": {\n        \"dtype\": \"number\",\n        \"std\": 9,\n        \"min\": 29,\n        \"max\": 77,\n        \"num_unique_values\": 41,\n        \"samples\": [\n          46,\n          66,\n          48\n        ],\n        \"semantic_type\": \"\",\n        \"description\": \"\"\n      }\n    },\n    {\n      \"column\": \"sex\",\n      \"properties\": {\n        \"dtype\": \"number\",\n        \"std\": 0,\n        \"min\": 0,\n        \"max\": 1,\n        \"num_unique_values\": 2,\n        \"samples\": [\n          0,\n          1\n        ],\n        \"semantic_type\": \"\",\n        \"description\": \"\"\n      }\n    },\n    {\n      \"column\": \"cp\",\n      \"properties\": {\n        \"dtype\": \"number\",\n        \"std\": 1,\n        \"min\": 0,\n        \"max\": 3,\n        \"num_unique_values\": 4,\n        \"samples\": [\n          2,\n          0\n        ],\n        \"semantic_type\": \"\",\n        \"description\": \"\"\n      }\n    },\n    {\n      \"column\": \"trestbps\",\n      \"properties\": {\n        \"dtype\": \"number\",\n        \"std\": 17,\n        \"min\": 94,\n        \"max\": 200,\n        \"num_unique_values\": 49,\n        \"samples\": [\n          104,\n          123\n        ],\n        \"semantic_type\": \"\",\n        \"description\": \"\"\n      }\n    },\n    {\n      \"column\": \"chol\",\n      \"properties\": {\n        \"dtype\": \"number\",\n        \"std\": 51,\n        \"min\": 126,\n        \"max\": 564,\n        \"num_unique_values\": 152,\n        \"samples\": [\n          277,\n          169\n        ],\n        \"semantic_type\": \"\",\n        \"description\": \"\"\n      }\n    },\n    {\n      \"column\": \"fbs\",\n      \"properties\": {\n        \"dtype\": \"number\",\n        \"std\": 0,\n        \"min\": 0,\n        \"max\": 1,\n        \"num_unique_values\": 2,\n        \"samples\": [\n          0,\n          1\n        ],\n        \"semantic_type\": \"\",\n        \"description\": \"\"\n      }\n    },\n    {\n      \"column\": \"restecg\",\n      \"properties\": {\n        \"dtype\": \"number\",\n        \"std\": 0,\n        \"min\": 0,\n        \"max\": 2,\n        \"num_unique_values\": 3,\n        \"samples\": [\n          0,\n          1\n        ],\n        \"semantic_type\": \"\",\n        \"description\": \"\"\n      }\n    },\n    {\n      \"column\": \"thalach\",\n      \"properties\": {\n        \"dtype\": \"category\",\n        \"num_unique_values\": 90,\n        \"samples\": [\n          \"130\",\n          \"168\"\n        ],\n        \"semantic_type\": \"\",\n        \"description\": \"\"\n      }\n    },\n    {\n      \"column\": \"exang\",\n      \"properties\": {\n        \"dtype\": \"number\",\n        \"std\": 0,\n        \"min\": 0,\n        \"max\": 1,\n        \"num_unique_values\": 2,\n        \"samples\": [\n          1,\n          0\n        ],\n        \"semantic_type\": \"\",\n        \"description\": \"\"\n      }\n    },\n    {\n      \"column\": \"oldpeak\",\n      \"properties\": {\n        \"dtype\": \"number\",\n        \"std\": 1.1610750220686343,\n        \"min\": 0.0,\n        \"max\": 6.2,\n        \"num_unique_values\": 40,\n        \"samples\": [\n          1.9,\n          3.0\n        ],\n        \"semantic_type\": \"\",\n        \"description\": \"\"\n      }\n    },\n    {\n      \"column\": \"slope\",\n      \"properties\": {\n        \"dtype\": \"number\",\n        \"std\": 0,\n        \"min\": 0,\n        \"max\": 2,\n        \"num_unique_values\": 3,\n        \"samples\": [\n          0,\n          2\n        ],\n        \"semantic_type\": \"\",\n        \"description\": \"\"\n      }\n    },\n    {\n      \"column\": \"ca\",\n      \"properties\": {\n        \"dtype\": \"number\",\n        \"std\": 1,\n        \"min\": 0,\n        \"max\": 4,\n        \"num_unique_values\": 5,\n        \"samples\": [\n          2,\n          4\n        ],\n        \"semantic_type\": \"\",\n        \"description\": \"\"\n      }\n    },\n    {\n      \"column\": \"thal\",\n      \"properties\": {\n        \"dtype\": \"number\",\n        \"std\": 0,\n        \"min\": 0,\n        \"max\": 3,\n        \"num_unique_values\": 4,\n        \"samples\": [\n          2,\n          0\n        ],\n        \"semantic_type\": \"\",\n        \"description\": \"\"\n      }\n    },\n    {\n      \"column\": \"target\",\n      \"properties\": {\n        \"dtype\": \"number\",\n        \"std\": 0,\n        \"min\": 0,\n        \"max\": 1,\n        \"num_unique_values\": 2,\n        \"samples\": [\n          0,\n          1\n        ],\n        \"semantic_type\": \"\",\n        \"description\": \"\"\n      }\n    }\n  ]\n}"
            }
          },
          "metadata": {},
          "execution_count": 50
        }
      ]
    },
    {
      "cell_type": "markdown",
      "source": [
        "2. Checking for the missing values"
      ],
      "metadata": {
        "id": "6JqVOWiJUDrP"
      }
    },
    {
      "cell_type": "code",
      "source": [
        "# Check for missing values in the dataset\n",
        "missing_values = data.isnull().sum()\n",
        "\n",
        "# Check data types and basic statistics for anomalies\n",
        "data_info = data.info()\n",
        "data_statistics = data.describe()\n",
        "\n",
        "missing_values, data_statistics"
      ],
      "metadata": {
        "colab": {
          "base_uri": "https://localhost:8080/"
        },
        "id": "8qiJbSXkPFzs",
        "outputId": "aabc55fc-2973-4237-d0bb-3d65e84ae12a"
      },
      "execution_count": 51,
      "outputs": [
        {
          "output_type": "stream",
          "name": "stdout",
          "text": [
            "<class 'pandas.core.frame.DataFrame'>\n",
            "RangeIndex: 303 entries, 0 to 302\n",
            "Data columns (total 14 columns):\n",
            " #   Column    Non-Null Count  Dtype  \n",
            "---  ------    --------------  -----  \n",
            " 0   age       303 non-null    int64  \n",
            " 1   sex       303 non-null    int64  \n",
            " 2   cp        303 non-null    int64  \n",
            " 3   trestbps  303 non-null    int64  \n",
            " 4   chol      303 non-null    int64  \n",
            " 5   fbs       303 non-null    int64  \n",
            " 6   restecg   303 non-null    int64  \n",
            " 7   thalach   288 non-null    object \n",
            " 8   exang     303 non-null    int64  \n",
            " 9   oldpeak   303 non-null    float64\n",
            " 10  slope     303 non-null    int64  \n",
            " 11  ca        303 non-null    int64  \n",
            " 12  thal      303 non-null    int64  \n",
            " 13  target    303 non-null    int64  \n",
            "dtypes: float64(1), int64(12), object(1)\n",
            "memory usage: 33.3+ KB\n"
          ]
        },
        {
          "output_type": "execute_result",
          "data": {
            "text/plain": [
              "(age          0\n",
              " sex          0\n",
              " cp           0\n",
              " trestbps     0\n",
              " chol         0\n",
              " fbs          0\n",
              " restecg      0\n",
              " thalach     15\n",
              " exang        0\n",
              " oldpeak      0\n",
              " slope        0\n",
              " ca           0\n",
              " thal         0\n",
              " target       0\n",
              " dtype: int64,\n",
              "               age         sex          cp    trestbps        chol         fbs  \\\n",
              " count  303.000000  303.000000  303.000000  303.000000  303.000000  303.000000   \n",
              " mean    54.366337    0.683168    0.966997  131.623762  246.264026    0.148515   \n",
              " std      9.082101    0.466011    1.032052   17.538143   51.830751    0.356198   \n",
              " min     29.000000    0.000000    0.000000   94.000000  126.000000    0.000000   \n",
              " 25%     47.500000    0.000000    0.000000  120.000000  211.000000    0.000000   \n",
              " 50%     55.000000    1.000000    1.000000  130.000000  240.000000    0.000000   \n",
              " 75%     61.000000    1.000000    2.000000  140.000000  274.500000    0.000000   \n",
              " max     77.000000    1.000000    3.000000  200.000000  564.000000    1.000000   \n",
              " \n",
              "           restecg       exang     oldpeak       slope          ca        thal  \\\n",
              " count  303.000000  303.000000  303.000000  303.000000  303.000000  303.000000   \n",
              " mean     0.528053    0.326733    1.039604    1.399340    0.729373    2.313531   \n",
              " std      0.525860    0.469794    1.161075    0.616226    1.022606    0.612277   \n",
              " min      0.000000    0.000000    0.000000    0.000000    0.000000    0.000000   \n",
              " 25%      0.000000    0.000000    0.000000    1.000000    0.000000    2.000000   \n",
              " 50%      1.000000    0.000000    0.800000    1.000000    0.000000    2.000000   \n",
              " 75%      1.000000    1.000000    1.600000    2.000000    1.000000    3.000000   \n",
              " max      2.000000    1.000000    6.200000    2.000000    4.000000    3.000000   \n",
              " \n",
              "            target  \n",
              " count  303.000000  \n",
              " mean     0.544554  \n",
              " std      0.498835  \n",
              " min      0.000000  \n",
              " 25%      0.000000  \n",
              " 50%      1.000000  \n",
              " 75%      1.000000  \n",
              " max      1.000000  )"
            ]
          },
          "metadata": {},
          "execution_count": 51
        }
      ]
    },
    {
      "cell_type": "markdown",
      "source": [
        "2. a) Handling Missing Values"
      ],
      "metadata": {
        "id": "6Fa2dBhfULp8"
      }
    },
    {
      "cell_type": "code",
      "source": [
        "import pandas as pd\n",
        "import numpy as np\n",
        "import matplotlib.pyplot as plt\n",
        "import seaborn as sns\n",
        "\n",
        "from sklearn.model_selection import train_test_split\n",
        "from sklearn.preprocessing import StandardScaler, MinMaxScaler, OneHotEncoder\n",
        "from sklearn.linear_model import LogisticRegression\n",
        "\n",
        "from sklearn.metrics import accuracy_score, precision_score, recall_score, f1_score, confusion_matrix, classification_report\n",
        "from tensorflow.keras.models import Sequential\n",
        "from tensorflow.keras.layers import Dense, Dropout\n",
        "import random\n",
        "import os\n",
        "\n",
        "\n",
        "\n",
        "# Convert 'thalach' to numeric and replace invalid values with NaN\n",
        "data['thalach'] = pd.to_numeric(data['thalach'], errors='coerce')\n",
        "\n",
        "# Replace NaN values in 'thalach' with the median\n",
        "data['thalach'].fillna(data['thalach'].median(), inplace=True)\n",
        "\n",
        "# Impute other missing values using median for numeric columns\n",
        "numeric_cols = data.select_dtypes(include=np.number).columns\n",
        "data[numeric_cols] = data[numeric_cols].fillna(data[numeric_cols].median())\n",
        "#handling missing values in the data set\n",
        "#checking for missing values\n",
        "missing_values = data.isnull().sum()  # Changed df to data\n",
        "print(\"\\nMissing values in the dataset:\")\n",
        "print(missing_values[missing_values > 0])\n",
        "\n",
        "#checking dor the dat type and anamolies if any\n",
        "print(\"\\nData types:\")\n",
        "print(data.dtypes)  # Changed df to data\n",
        "\n",
        "\n",
        "# Set random seed for reproducibility\n",
        "SEED = 42\n",
        "np.random.seed(SEED)\n",
        "random.seed(SEED)\n",
        "os.environ['PYTHONHASHSEED'] = str(SEED)\n",
        "\n",
        "data.fillna(data.median(), inplace=True)\n",
        "plt.figure(figsize=(12, 6))\n",
        "sns.boxplot(data=data)\n",
        "plt.title(\"Boxplot for Detecting Outliers\")\n",
        "plt.show()"
      ],
      "metadata": {
        "colab": {
          "base_uri": "https://localhost:8080/",
          "height": 1000
        },
        "id": "bkXYW5TNWTgf",
        "outputId": "d3c200ba-abc4-40ab-f2bd-618f5ed142fa"
      },
      "execution_count": 53,
      "outputs": [
        {
          "output_type": "stream",
          "name": "stderr",
          "text": [
            "<ipython-input-53-700bb77f967a>:22: FutureWarning: A value is trying to be set on a copy of a DataFrame or Series through chained assignment using an inplace method.\n",
            "The behavior will change in pandas 3.0. This inplace method will never work because the intermediate object on which we are setting values always behaves as a copy.\n",
            "\n",
            "For example, when doing 'df[col].method(value, inplace=True)', try using 'df.method({col: value}, inplace=True)' or df[col] = df[col].method(value) instead, to perform the operation inplace on the original object.\n",
            "\n",
            "\n",
            "  data['thalach'].fillna(data['thalach'].median(), inplace=True)\n"
          ]
        },
        {
          "output_type": "stream",
          "name": "stdout",
          "text": [
            "\n",
            "Missing values in the dataset:\n",
            "Series([], dtype: int64)\n",
            "\n",
            "Data types:\n",
            "age           int64\n",
            "sex           int64\n",
            "cp            int64\n",
            "trestbps      int64\n",
            "chol          int64\n",
            "fbs           int64\n",
            "restecg       int64\n",
            "thalach     float64\n",
            "exang         int64\n",
            "oldpeak     float64\n",
            "slope         int64\n",
            "ca            int64\n",
            "thal          int64\n",
            "target        int64\n",
            "dtype: object\n"
          ]
        },
        {
          "output_type": "display_data",
          "data": {
            "text/plain": [
              "<Figure size 1200x600 with 1 Axes>"
            ],
            "image/png": "[encoded data removed]"
          },
          "metadata": {}
        }
      ]
    },
    {
      "cell_type": "code",
      "execution_count": 54,
      "metadata": {
        "colab": {
          "base_uri": "https://localhost:8080/",
          "height": 664
        },
        "id": "lTAhz4L0O5dd",
        "outputId": "c9e0de11-b061-4850-9421-85920bd949ca"
      },
      "outputs": [
        {
          "output_type": "stream",
          "name": "stderr",
          "text": [
            "<ipython-input-54-a24309657ed0>:4: FutureWarning: A value is trying to be set on a copy of a DataFrame or Series through chained assignment using an inplace method.\n",
            "The behavior will change in pandas 3.0. This inplace method will never work because the intermediate object on which we are setting values always behaves as a copy.\n",
            "\n",
            "For example, when doing 'df[col].method(value, inplace=True)', try using 'df.method({col: value}, inplace=True)' or df[col] = df[col].method(value) instead, to perform the operation inplace on the original object.\n",
            "\n",
            "\n",
            "  data['thalach'].fillna(data['thalach'].median(), inplace=True)\n"
          ]
        },
        {
          "output_type": "execute_result",
          "data": {
            "text/plain": [
              "age         0\n",
              "sex         0\n",
              "cp          0\n",
              "trestbps    0\n",
              "chol        0\n",
              "fbs         0\n",
              "restecg     0\n",
              "thalach     0\n",
              "exang       0\n",
              "oldpeak     0\n",
              "slope       0\n",
              "ca          0\n",
              "thal        0\n",
              "target      0\n",
              "dtype: int64"
            ],
            "text/html": [
              "<div>\n",
              "<style scoped>\n",
              "    .dataframe tbody tr th:only-of-type {\n",
              "        vertical-align: middle;\n",
              "    }\n",
              "\n",
              "    .dataframe tbody tr th {\n",
              "        vertical-align: top;\n",
              "    }\n",
              "\n",
              "    .dataframe thead th {\n",
              "        text-align: right;\n",
              "    }\n",
              "</style>\n",
              "<table border=\"1\" class=\"dataframe\">\n",
              "  <thead>\n",
              "    <tr style=\"text-align: right;\">\n",
              "      <th></th>\n",
              "      <th>0</th>\n",
              "    </tr>\n",
              "  </thead>\n",
              "  <tbody>\n",
              "    <tr>\n",
              "      <th>age</th>\n",
              "      <td>0</td>\n",
              "    </tr>\n",
              "    <tr>\n",
              "      <th>sex</th>\n",
              "      <td>0</td>\n",
              "    </tr>\n",
              "    <tr>\n",
              "      <th>cp</th>\n",
              "      <td>0</td>\n",
              "    </tr>\n",
              "    <tr>\n",
              "      <th>trestbps</th>\n",
              "      <td>0</td>\n",
              "    </tr>\n",
              "    <tr>\n",
              "      <th>chol</th>\n",
              "      <td>0</td>\n",
              "    </tr>\n",
              "    <tr>\n",
              "      <th>fbs</th>\n",
              "      <td>0</td>\n",
              "    </tr>\n",
              "    <tr>\n",
              "      <th>restecg</th>\n",
              "      <td>0</td>\n",
              "    </tr>\n",
              "    <tr>\n",
              "      <th>thalach</th>\n",
              "      <td>0</td>\n",
              "    </tr>\n",
              "    <tr>\n",
              "      <th>exang</th>\n",
              "      <td>0</td>\n",
              "    </tr>\n",
              "    <tr>\n",
              "      <th>oldpeak</th>\n",
              "      <td>0</td>\n",
              "    </tr>\n",
              "    <tr>\n",
              "      <th>slope</th>\n",
              "      <td>0</td>\n",
              "    </tr>\n",
              "    <tr>\n",
              "      <th>ca</th>\n",
              "      <td>0</td>\n",
              "    </tr>\n",
              "    <tr>\n",
              "      <th>thal</th>\n",
              "      <td>0</td>\n",
              "    </tr>\n",
              "    <tr>\n",
              "      <th>target</th>\n",
              "      <td>0</td>\n",
              "    </tr>\n",
              "  </tbody>\n",
              "</table>\n",
              "</div><br><label><b>dtype:</b> int64</label>"
            ]
          },
          "metadata": {},
          "execution_count": 54
        }
      ],
      "source": [
        "# Convert 'thalach' to numeric\n",
        "# impute missing values with the median\n",
        "data['thalach'] = pd.to_numeric(data['thalach'], errors='coerce')\n",
        "data['thalach'].fillna(data['thalach'].median(), inplace=True)\n",
        "\n",
        "# Verify data cleaning\n",
        "missing_values_after = data.isnull().sum()\n",
        "missing_values_after\n"
      ]
    },
    {
      "cell_type": "markdown",
      "source": [
        "\n",
        "\n",
        "\n",
        "Justification::\n",
        "\n",
        "1. Used data.isnull().sum() to detect missing values, with thalach having 15 missing entries.\n",
        "2. Replaced all missing values with column medians using data.fillna(data.median(), inplace=True).\n",
        "Converted thalach from object to numeric using pd.to_numeric.\n",
        "Specifically filled missing thalach values with its median.\n",
        "Verified no missing values remained and reviewed data consistency with data.info() and data.describe()."
      ],
      "metadata": {
        "id": "_rEem2-uUmBa"
      }
    },
    {
      "cell_type": "markdown",
      "source": [
        "2. b) Age Distribution"
      ],
      "metadata": {
        "id": "7VdVCjqbUnOy"
      }
    },
    {
      "cell_type": "code",
      "source": [
        "#Age Distribution\n",
        "\n",
        "from scipy.stats import shapiro\n",
        "import matplotlib.pyplot as plt\n",
        "import seaborn as sns\n",
        "\n",
        "# Plot the distribution of 'age'\n",
        "plt.figure(figsize=(8, 5))\n",
        "sns.histplot(data['age'], kde=True, bins=10, color='green')\n",
        "plt.title('Age Distribution')\n",
        "plt.xlabel('Age')\n",
        "plt.ylabel('Frequency')\n",
        "plt.show()\n",
        "\n",
        "# Perform Shapiro-Wilk test for normality\n",
        "stat, p_value = shapiro(data['age'])\n",
        "\n",
        "stat, p_value\n"
      ],
      "metadata": {
        "colab": {
          "base_uri": "https://localhost:8080/",
          "height": 504
        },
        "id": "XkmELLUSPNEA",
        "outputId": "7a481b5f-8f0b-43c1-815e-badde546260b"
      },
      "execution_count": 55,
      "outputs": [
        {
          "output_type": "display_data",
          "data": {
            "text/plain": [
              "<Figure size 800x500 with 1 Axes>"
            ],
            "image/png": "[encoded data removed]"
          },
          "metadata": {}
        },
        {
          "output_type": "execute_result",
          "data": {
            "text/plain": [
              "(0.9863704808531356, 0.005798359385662453)"
            ]
          },
          "metadata": {},
          "execution_count": 55
        }
      ]
    },
    {
      "cell_type": "markdown",
      "source": [
        "Findings and Justification::\n",
        "\n",
        "1. age distribution is slightly skewed and not perfectly bell-shaped.\n",
        "2. Shapiro-Wilk test was done beacuse to statistically verify whether the age data follows a normal distribution\n",
        "3. Shapiro - Wilk returned a p-value of 0.0058, which is less than 0.05, indicating the age data is not normally distributed.\n",
        "4. scaling techniques like Min-Max Scaling will be used i data pre processing step to preprocess the age feature effectively for modeling."
      ],
      "metadata": {
        "id": "jPvcU2c5XKws"
      }
    },
    {
      "cell_type": "markdown",
      "source": [
        "2. c) Data Pre Processing\n",
        "\n"
      ],
      "metadata": {
        "id": "GUurIO4gSe9p"
      }
    },
    {
      "cell_type": "code",
      "source": [
        "#Data Pre processing\n",
        "\n",
        "from sklearn.preprocessing import MinMaxScaler, OneHotEncoder\n",
        "\n",
        "# Normalize numeric features using Min-Max Scaling\n",
        "numeric_features = ['age', 'trestbps', 'chol', 'thalach', 'oldpeak']\n",
        "scaler = MinMaxScaler()\n",
        "data[numeric_features] = scaler.fit_transform(data[numeric_features])\n",
        "\n",
        "# Encode categorical features using One-Hot Encoding\n",
        "categorical_features = ['cp', 'thal', 'slope', 'ca', 'exang'] # Correctly define categorical_features\n",
        "encoder = OneHotEncoder(drop='first', handle_unknown='ignore', sparse_output=False) # sparse=False for pandas DataFrame\n",
        "encoded_features = pd.DataFrame(\n",
        "    encoder.fit_transform(data[categorical_features]),\n",
        "    columns=encoder.get_feature_names_out(categorical_features)\n",
        ")\n",
        "\n",
        "\n",
        "# Drop original categorical columns and add encoded features\n",
        "data = data.drop(columns=categorical_features).join(encoded_features)\n",
        "\n",
        "# Display the preprocessed dataset\n",
        "data.head()"
      ],
      "metadata": {
        "colab": {
          "base_uri": "https://localhost:8080/",
          "height": 235
        },
        "id": "_n6emMRdPS94",
        "outputId": "3eceef42-5b39-48f9-e762-d555077ba6d2"
      },
      "execution_count": 56,
      "outputs": [
        {
          "output_type": "execute_result",
          "data": {
            "text/plain": [
              "        age  sex  trestbps      chol  fbs  restecg   thalach   oldpeak  \\\n",
              "0  0.708333    1  0.481132  0.244292    1        0  0.603053  0.370968   \n",
              "1  0.166667    1  0.339623  0.283105    0        1  0.885496  0.564516   \n",
              "2  0.250000    0  0.339623  0.178082    0        0  0.770992  0.225806   \n",
              "3  0.562500    1  0.245283  0.251142    0        1  0.816794  0.129032   \n",
              "4  0.583333    0  0.245283  0.520548    0        1  0.702290  0.096774   \n",
              "\n",
              "   target  cp_1  ...  thal_1  thal_2  thal_3  slope_1  slope_2  ca_1  ca_2  \\\n",
              "0       1   0.0  ...     1.0     0.0     0.0      0.0      0.0   0.0   0.0   \n",
              "1       1   0.0  ...     0.0     1.0     0.0      0.0      0.0   0.0   0.0   \n",
              "2       1   1.0  ...     0.0     1.0     0.0      0.0      1.0   0.0   0.0   \n",
              "3       1   1.0  ...     0.0     1.0     0.0      0.0      1.0   0.0   0.0   \n",
              "4       1   0.0  ...     0.0     1.0     0.0      0.0      1.0   0.0   0.0   \n",
              "\n",
              "   ca_3  ca_4  exang_1  \n",
              "0   0.0   0.0      0.0  \n",
              "1   0.0   0.0      0.0  \n",
              "2   0.0   0.0      0.0  \n",
              "3   0.0   0.0      0.0  \n",
              "4   0.0   0.0      1.0  \n",
              "\n",
              "[5 rows x 22 columns]"
            ],
            "text/html": [
              "\n",
              "  <div id=\"df-39a46336-7ea8-494c-a18b-a8f03358a6cb\" class=\"colab-df-container\">\n",
              "    <div>\n",
              "<style scoped>\n",
              "    .dataframe tbody tr th:only-of-type {\n",
              "        vertical-align: middle;\n",
              "    }\n",
              "\n",
              "    .dataframe tbody tr th {\n",
              "        vertical-align: top;\n",
              "    }\n",
              "\n",
              "    .dataframe thead th {\n",
              "        text-align: right;\n",
              "    }\n",
              "</style>\n",
              "<table border=\"1\" class=\"dataframe\">\n",
              "  <thead>\n",
              "    <tr style=\"text-align: right;\">\n",
              "      <th></th>\n",
              "      <th>age</th>\n",
              "      <th>sex</th>\n",
              "      <th>trestbps</th>\n",
              "      <th>chol</th>\n",
              "      <th>fbs</th>\n",
              "      <th>restecg</th>\n",
              "      <th>thalach</th>\n",
              "      <th>oldpeak</th>\n",
              "      <th>target</th>\n",
              "      <th>cp_1</th>\n",
              "      <th>...</th>\n",
              "      <th>thal_1</th>\n",
              "      <th>thal_2</th>\n",
              "      <th>thal_3</th>\n",
              "      <th>slope_1</th>\n",
              "      <th>slope_2</th>\n",
              "      <th>ca_1</th>\n",
              "      <th>ca_2</th>\n",
              "      <th>ca_3</th>\n",
              "      <th>ca_4</th>\n",
              "      <th>exang_1</th>\n",
              "    </tr>\n",
              "  </thead>\n",
              "  <tbody>\n",
              "    <tr>\n",
              "      <th>0</th>\n",
              "      <td>0.708333</td>\n",
              "      <td>1</td>\n",
              "      <td>0.481132</td>\n",
              "      <td>0.244292</td>\n",
              "      <td>1</td>\n",
              "      <td>0</td>\n",
              "      <td>0.603053</td>\n",
              "      <td>0.370968</td>\n",
              "      <td>1</td>\n",
              "      <td>0.0</td>\n",
              "      <td>...</td>\n",
              "      <td>1.0</td>\n",
              "      <td>0.0</td>\n",
              "      <td>0.0</td>\n",
              "      <td>0.0</td>\n",
              "      <td>0.0</td>\n",
              "      <td>0.0</td>\n",
              "      <td>0.0</td>\n",
              "      <td>0.0</td>\n",
              "      <td>0.0</td>\n",
              "      <td>0.0</td>\n",
              "    </tr>\n",
              "    <tr>\n",
              "      <th>1</th>\n",
              "      <td>0.166667</td>\n",
              "      <td>1</td>\n",
              "      <td>0.339623</td>\n",
              "      <td>0.283105</td>\n",
              "      <td>0</td>\n",
              "      <td>1</td>\n",
              "      <td>0.885496</td>\n",
              "      <td>0.564516</td>\n",
              "      <td>1</td>\n",
              "      <td>0.0</td>\n",
              "      <td>...</td>\n",
              "      <td>0.0</td>\n",
              "      <td>1.0</td>\n",
              "      <td>0.0</td>\n",
              "      <td>0.0</td>\n",
              "      <td>0.0</td>\n",
              "      <td>0.0</td>\n",
              "      <td>0.0</td>\n",
              "      <td>0.0</td>\n",
              "      <td>0.0</td>\n",
              "      <td>0.0</td>\n",
              "    </tr>\n",
              "    <tr>\n",
              "      <th>2</th>\n",
              "      <td>0.250000</td>\n",
              "      <td>0</td>\n",
              "      <td>0.339623</td>\n",
              "      <td>0.178082</td>\n",
              "      <td>0</td>\n",
              "      <td>0</td>\n",
              "      <td>0.770992</td>\n",
              "      <td>0.225806</td>\n",
              "      <td>1</td>\n",
              "      <td>1.0</td>\n",
              "      <td>...</td>\n",
              "      <td>0.0</td>\n",
              "      <td>1.0</td>\n",
              "      <td>0.0</td>\n",
              "      <td>0.0</td>\n",
              "      <td>1.0</td>\n",
              "      <td>0.0</td>\n",
              "      <td>0.0</td>\n",
              "      <td>0.0</td>\n",
              "      <td>0.0</td>\n",
              "      <td>0.0</td>\n",
              "    </tr>\n",
              "    <tr>\n",
              "      <th>3</th>\n",
              "      <td>0.562500</td>\n",
              "      <td>1</td>\n",
              "      <td>0.245283</td>\n",
              "      <td>0.251142</td>\n",
              "      <td>0</td>\n",
              "      <td>1</td>\n",
              "      <td>0.816794</td>\n",
              "      <td>0.129032</td>\n",
              "      <td>1</td>\n",
              "      <td>1.0</td>\n",
              "      <td>...</td>\n",
              "      <td>0.0</td>\n",
              "      <td>1.0</td>\n",
              "      <td>0.0</td>\n",
              "      <td>0.0</td>\n",
              "      <td>1.0</td>\n",
              "      <td>0.0</td>\n",
              "      <td>0.0</td>\n",
              "      <td>0.0</td>\n",
              "      <td>0.0</td>\n",
              "      <td>0.0</td>\n",
              "    </tr>\n",
              "    <tr>\n",
              "      <th>4</th>\n",
              "      <td>0.583333</td>\n",
              "      <td>0</td>\n",
              "      <td>0.245283</td>\n",
              "      <td>0.520548</td>\n",
              "      <td>0</td>\n",
              "      <td>1</td>\n",
              "      <td>0.702290</td>\n",
              "      <td>0.096774</td>\n",
              "      <td>1</td>\n",
              "      <td>0.0</td>\n",
              "      <td>...</td>\n",
              "      <td>0.0</td>\n",
              "      <td>1.0</td>\n",
              "      <td>0.0</td>\n",
              "      <td>0.0</td>\n",
              "      <td>1.0</td>\n",
              "      <td>0.0</td>\n",
              "      <td>0.0</td>\n",
              "      <td>0.0</td>\n",
              "      <td>0.0</td>\n",
              "      <td>1.0</td>\n",
              "    </tr>\n",
              "  </tbody>\n",
              "</table>\n",
              "<p>5 rows × 22 columns</p>\n",
              "</div>\n",
              "    <div class=\"colab-df-buttons\">\n",
              "\n",
              "  <div class=\"colab-df-container\">\n",
              "    <button class=\"colab-df-convert\" onclick=\"convertToInteractive('df-39a46336-7ea8-494c-a18b-a8f03358a6cb')\"\n",
              "            title=\"Convert this dataframe to an interactive table.\"\n",
              "            style=\"display:none;\">\n",
              "\n",
              "  <svg xmlns=\"http://www.w3.org/2000/svg\" height=\"24px\" viewBox=\"0 -960 960 960\">\n",
              "    <path d=\"M120-120v-720h720v720H120Zm60-500h600v-160H180v160Zm220 220h160v-160H400v160Zm0 220h160v-160H400v160ZM180-400h160v-160H180v160Zm440 0h160v-160H620v160ZM180-180h160v-160H180v160Zm440 0h160v-160H620v160Z\"/>\n",
              "  </svg>\n",
              "    </button>\n",
              "\n",
              "  <style>\n",
              "    .colab-df-container {\n",
              "      display:flex;\n",
              "      gap: 12px;\n",
              "    }\n",
              "\n",
              "    .colab-df-convert {\n",
              "      background-color: #E8F0FE;\n",
              "      border: none;\n",
              "      border-radius: 50%;\n",
              "      cursor: pointer;\n",
              "      display: none;\n",
              "      fill: #1967D2;\n",
              "      height: 32px;\n",
              "      padding: 0 0 0 0;\n",
              "      width: 32px;\n",
              "    }\n",
              "\n",
              "    .colab-df-convert:hover {\n",
              "      background-color: #E2EBFA;\n",
              "      box-shadow: 0px 1px 2px rgba(60, 64, 67, 0.3), 0px 1px 3px 1px rgba(60, 64, 67, 0.15);\n",
              "      fill: #174EA6;\n",
              "    }\n",
              "\n",
              "    .colab-df-buttons div {\n",
              "      margin-bottom: 4px;\n",
              "    }\n",
              "\n",
              "    [theme=dark] .colab-df-convert {\n",
              "      background-color: #3B4455;\n",
              "      fill: #D2E3FC;\n",
              "    }\n",
              "\n",
              "    [theme=dark] .colab-df-convert:hover {\n",
              "      background-color: #434B5C;\n",
              "      box-shadow: 0px 1px 3px 1px rgba(0, 0, 0, 0.15);\n",
              "      filter: drop-shadow(0px 1px 2px rgba(0, 0, 0, 0.3));\n",
              "      fill: #FFFFFF;\n",
              "    }\n",
              "  </style>\n",
              "\n",
              "    <script>\n",
              "      const buttonEl =\n",
              "        document.querySelector('#df-39a46336-7ea8-494c-a18b-a8f03358a6cb button.colab-df-convert');\n",
              "      buttonEl.style.display =\n",
              "        google.colab.kernel.accessAllowed ? 'block' : 'none';\n",
              "\n",
              "      async function convertToInteractive(key) {\n",
              "        const element = document.querySelector('#df-39a46336-7ea8-494c-a18b-a8f03358a6cb');\n",
              "        const dataTable =\n",
              "          await google.colab.kernel.invokeFunction('convertToInteractive',\n",
              "                                                    [key], {});\n",
              "        if (!dataTable) return;\n",
              "\n",
              "        const docLinkHtml = 'Like what you see? Visit the ' +\n",
              "          '<a target=\"_blank\" href=https://colab.research.google.com/notebooks/data_table.ipynb>data table notebook</a>'\n",
              "          + ' to learn more about interactive tables.';\n",
              "        element.innerHTML = '';\n",
              "        dataTable['output_type'] = 'display_data';\n",
              "        await google.colab.output.renderOutput(dataTable, element);\n",
              "        const docLink = document.createElement('div');\n",
              "        docLink.innerHTML = docLinkHtml;\n",
              "        element.appendChild(docLink);\n",
              "      }\n",
              "    </script>\n",
              "  </div>\n",
              "\n",
              "\n",
              "<div id=\"df-3e56bc73-e1de-4c7f-830f-d6c302744de2\">\n",
              "  <button class=\"colab-df-quickchart\" onclick=\"quickchart('df-3e56bc73-e1de-4c7f-830f-d6c302744de2')\"\n",
              "            title=\"Suggest charts\"\n",
              "            style=\"display:none;\">\n",
              "\n",
              "<svg xmlns=\"http://www.w3.org/2000/svg\" height=\"24px\"viewBox=\"0 0 24 24\"\n",
              "     width=\"24px\">\n",
              "    <g>\n",
              "        <path d=\"M19 3H5c-1.1 0-2 .9-2 2v14c0 1.1.9 2 2 2h14c1.1 0 2-.9 2-2V5c0-1.1-.9-2-2-2zM9 17H7v-7h2v7zm4 0h-2V7h2v10zm4 0h-2v-4h2v4z\"/>\n",
              "    </g>\n",
              "</svg>\n",
              "  </button>\n",
              "\n",
              "<style>\n",
              "  .colab-df-quickchart {\n",
              "      --bg-color: #E8F0FE;\n",
              "      --fill-color: #1967D2;\n",
              "      --hover-bg-color: #E2EBFA;\n",
              "      --hover-fill-color: #174EA6;\n",
              "      --disabled-fill-color: #AAA;\n",
              "      --disabled-bg-color: #DDD;\n",
              "  }\n",
              "\n",
              "  [theme=dark] .colab-df-quickchart {\n",
              "      --bg-color: #3B4455;\n",
              "      --fill-color: #D2E3FC;\n",
              "      --hover-bg-color: #434B5C;\n",
              "      --hover-fill-color: #FFFFFF;\n",
              "      --disabled-bg-color: #3B4455;\n",
              "      --disabled-fill-color: #666;\n",
              "  }\n",
              "\n",
              "  .colab-df-quickchart {\n",
              "    background-color: var(--bg-color);\n",
              "    border: none;\n",
              "    border-radius: 50%;\n",
              "    cursor: pointer;\n",
              "    display: none;\n",
              "    fill: var(--fill-color);\n",
              "    height: 32px;\n",
              "    padding: 0;\n",
              "    width: 32px;\n",
              "  }\n",
              "\n",
              "  .colab-df-quickchart:hover {\n",
              "    background-color: var(--hover-bg-color);\n",
              "    box-shadow: 0 1px 2px rgba(60, 64, 67, 0.3), 0 1px 3px 1px rgba(60, 64, 67, 0.15);\n",
              "    fill: var(--button-hover-fill-color);\n",
              "  }\n",
              "\n",
              "  .colab-df-quickchart-complete:disabled,\n",
              "  .colab-df-quickchart-complete:disabled:hover {\n",
              "    background-color: var(--disabled-bg-color);\n",
              "    fill: var(--disabled-fill-color);\n",
              "    box-shadow: none;\n",
              "  }\n",
              "\n",
              "  .colab-df-spinner {\n",
              "    border: 2px solid var(--fill-color);\n",
              "    border-color: transparent;\n",
              "    border-bottom-color: var(--fill-color);\n",
              "    animation:\n",
              "      spin 1s steps(1) infinite;\n",
              "  }\n",
              "\n",
              "  @keyframes spin {\n",
              "    0% {\n",
              "      border-color: transparent;\n",
              "      border-bottom-color: var(--fill-color);\n",
              "      border-left-color: var(--fill-color);\n",
              "    }\n",
              "    20% {\n",
              "      border-color: transparent;\n",
              "      border-left-color: var(--fill-color);\n",
              "      border-top-color: var(--fill-color);\n",
              "    }\n",
              "    30% {\n",
              "      border-color: transparent;\n",
              "      border-left-color: var(--fill-color);\n",
              "      border-top-color: var(--fill-color);\n",
              "      border-right-color: var(--fill-color);\n",
              "    }\n",
              "    40% {\n",
              "      border-color: transparent;\n",
              "      border-right-color: var(--fill-color);\n",
              "      border-top-color: var(--fill-color);\n",
              "    }\n",
              "    60% {\n",
              "      border-color: transparent;\n",
              "      border-right-color: var(--fill-color);\n",
              "    }\n",
              "    80% {\n",
              "      border-color: transparent;\n",
              "      border-right-color: var(--fill-color);\n",
              "      border-bottom-color: var(--fill-color);\n",
              "    }\n",
              "    90% {\n",
              "      border-color: transparent;\n",
              "      border-bottom-color: var(--fill-color);\n",
              "    }\n",
              "  }\n",
              "</style>\n",
              "\n",
              "  <script>\n",
              "    async function quickchart(key) {\n",
              "      const quickchartButtonEl =\n",
              "        document.querySelector('#' + key + ' button');\n",
              "      quickchartButtonEl.disabled = true;  // To prevent multiple clicks.\n",
              "      quickchartButtonEl.classList.add('colab-df-spinner');\n",
              "      try {\n",
              "        const charts = await google.colab.kernel.invokeFunction(\n",
              "            'suggestCharts', [key], {});\n",
              "      } catch (error) {\n",
              "        console.error('Error during call to suggestCharts:', error);\n",
              "      }\n",
              "      quickchartButtonEl.classList.remove('colab-df-spinner');\n",
              "      quickchartButtonEl.classList.add('colab-df-quickchart-complete');\n",
              "    }\n",
              "    (() => {\n",
              "      let quickchartButtonEl =\n",
              "        document.querySelector('#df-3e56bc73-e1de-4c7f-830f-d6c302744de2 button');\n",
              "      quickchartButtonEl.style.display =\n",
              "        google.colab.kernel.accessAllowed ? 'block' : 'none';\n",
              "    })();\n",
              "  </script>\n",
              "</div>\n",
              "\n",
              "    </div>\n",
              "  </div>\n"
            ],
            "application/vnd.google.colaboratory.intrinsic+json": {
              "type": "dataframe",
              "variable_name": "data"
            }
          },
          "metadata": {},
          "execution_count": 56
        }
      ]
    },
    {
      "cell_type": "markdown",
      "source": [
        "Preprocessing Results:\n",
        "1. Used Min-Max Scaling to scale numeric columns to a range of 0 to 1.\n",
        "2. Applied One-Hot Encoding to convert categorical columns into binary  features.\n",
        "3. the data is been scaled now for the feature slection and modeling"
      ],
      "metadata": {
        "id": "5rrUBm4SSjBD"
      }
    },
    {
      "cell_type": "markdown",
      "source": [
        "2. d) Feature Selection"
      ],
      "metadata": {
        "id": "5LEomMzTTCuP"
      }
    },
    {
      "cell_type": "code",
      "source": [
        "# Feature Selection\n",
        "\n",
        "# Dropping the below columns\n",
        "data = data.drop(columns=['fbs', 'restecg'])\n",
        "\n",
        "# Display the updated columns after feature removal\n",
        "data.columns\n"
      ],
      "metadata": {
        "colab": {
          "base_uri": "https://localhost:8080/"
        },
        "id": "UYJoQdiAPYho",
        "outputId": "efc923e7-14a7-49bf-f9b5-84598aa223c4"
      },
      "execution_count": 57,
      "outputs": [
        {
          "output_type": "execute_result",
          "data": {
            "text/plain": [
              "Index(['age', 'sex', 'trestbps', 'chol', 'thalach', 'oldpeak', 'target',\n",
              "       'cp_1', 'cp_2', 'cp_3', 'thal_1', 'thal_2', 'thal_3', 'slope_1',\n",
              "       'slope_2', 'ca_1', 'ca_2', 'ca_3', 'ca_4', 'exang_1'],\n",
              "      dtype='object')"
            ]
          },
          "metadata": {},
          "execution_count": 57
        }
      ]
    },
    {
      "cell_type": "markdown",
      "source": [
        "Justification :\n",
        "1. The fbs column was removed because it has low predictive value for heart disease.\n",
        "2. The restecg column was dropped due to overlap with other features like thalach and slope.\n",
        "3. It reduced redundancy, helping the model focus on unique and relevant information.\n",
        "4. This step improved model accuracy by minimizing noise and avoiding overfitting.\n",
        "5. data.drop() was used as its a method in pandas and it helped me to remove specific columns from a DataFrame."
      ],
      "metadata": {
        "id": "ZHWE_g4NTE6T"
      }
    },
    {
      "cell_type": "markdown",
      "source": [
        "2. Classification Model:\n",
        "Logistic Regression model"
      ],
      "metadata": {
        "id": "gHOv8goTPxa1"
      }
    },
    {
      "cell_type": "code",
      "source": [
        "# model training\n",
        "\n",
        "from sklearn.model_selection import train_test_split\n",
        "from sklearn.linear_model import LogisticRegression\n",
        "from sklearn.metrics import classification_report, confusion_matrix, accuracy_score\n",
        "\n",
        "# Split the dataset into features and target variable\n",
        "X = data.drop(columns=['target'])\n",
        "y = data['target']\n",
        "\n",
        "# Split the data into training and testing sets\n",
        "X_train, X_test, y_train, y_test = train_test_split(X, y, test_size=0.2, random_state=42)\n",
        "\n",
        "# Train a Logistic Regression model\n",
        "logistic_model = LogisticRegression(random_state=42, max_iter=1000)\n",
        "logistic_model.fit(X_train, y_train)\n",
        "\n",
        "# Make predictions on the test set\n",
        "y_pred = logistic_model.predict(X_test)\n",
        "\n",
        "# Evaluate the model\n",
        "classification_report_output = classification_report(y_test, y_pred)\n",
        "conf_matrix = confusion_matrix(y_test, y_pred)\n",
        "accuracy = accuracy_score(y_test, y_pred)\n",
        "\n",
        "classification_report_output, conf_matrix, accuracy\n"
      ],
      "metadata": {
        "colab": {
          "base_uri": "https://localhost:8080/"
        },
        "id": "PsrZYPT0PpFP",
        "outputId": "b6b63ad3-31b9-40a9-8ed7-4577d89655a2"
      },
      "execution_count": 58,
      "outputs": [
        {
          "output_type": "execute_result",
          "data": {
            "text/plain": [
              "('              precision    recall  f1-score   support\\n\\n           0       0.82      0.93      0.87        29\\n           1       0.93      0.81      0.87        32\\n\\n    accuracy                           0.87        61\\n   macro avg       0.87      0.87      0.87        61\\nweighted avg       0.88      0.87      0.87        61\\n',\n",
              " array([[27,  2],\n",
              "        [ 6, 26]]),\n",
              " 0.8688524590163934)"
            ]
          },
          "metadata": {},
          "execution_count": 58
        }
      ]
    },
    {
      "cell_type": "markdown",
      "source": [
        "Justificatioon::\n",
        "\n",
        "1. Logistic Regression was used to predict the presence of heart disease.\n",
        "2. wored well for binary classification tasks like predicting heart disease (1 for disease, 0 for no disease).\n",
        "3. These metrics were chosen to ensure a complete evaluation of the model, especially in terms of correctly identifying heart disease while minimizing false positives and false negatives.\n",
        "4. Precision: Chosen to assess how well the model correctly identifies positive cases (heart disease), minimizing false positives.\n",
        "The model achieved an accuracy of 86.89%, meaning it correctly predicted the heart disease status in 87% of cases.\n",
        "\n",
        "5. Recall:  Selected to measure how effectively the model detects all true positive cases of heart disease, minimizing false negatives.\n",
        "The F1-score for both classes was 0.87, balancing precision and recall in the model's performance.\n",
        "6. For class 0 (no heart disease), precision was 0.82, and for class 1 (heart disease), it was 0.93\n",
        "7. The recall for class 0 was 0.93, and for class 1 was 0.81\n",
        "8. The confusion matrix showed\n",
        "\n",
        "True Negatives (TN): 27 (correctly predicted no heart disease)\n",
        "False Positives (FP): 2 (incorrectly predicted heart disease)\n",
        "False Negatives (FN): 6 (missed heart disease cases)\n",
        "True Positives (TP): 26 (correctly predicted heart disease)\n",
        "9. Accuracy was used to measure the overall correct predictions and evaluate the model's general performance across all cases."
      ],
      "metadata": {
        "id": "oZa6lgHQZRVP"
      }
    },
    {
      "cell_type": "markdown",
      "source": [
        "Impact of permutation to measure how much each feature contributes to the model's predictions."
      ],
      "metadata": {
        "id": "YLnKNDiYRpPG"
      }
    },
    {
      "cell_type": "code",
      "source": [
        "from sklearn.inspection import permutation_importance\n",
        "\n",
        "# Calculate permutation importance for Logistic Regression\n",
        "perm_importance = permutation_importance(logistic_model, X_test, y_test, n_repeats=10, random_state=42)\n",
        "\n",
        "# Create a DataFrame for visualization\n",
        "feature_importances = pd.DataFrame({\n",
        "    'Feature': X.columns,\n",
        "    'Importance': perm_importance.importances_mean\n",
        "}).sort_values(by='Importance', ascending=False)\n",
        "\n",
        "# Plot feature importances\n",
        "plt.figure(figsize=(10, 6))\n",
        "sns.barplot(data=feature_importances, x='Importance', y='Feature', palette='viridis')\n",
        "plt.title('Feature Importance (Logistic Regression)')\n",
        "plt.xlabel('Mean Permutation Importance')\n",
        "plt.ylabel('Feature')\n",
        "plt.show()\n"
      ],
      "metadata": {
        "colab": {
          "base_uri": "https://localhost:8080/",
          "height": 651
        },
        "id": "VC2CKlCwQ6_L",
        "outputId": "fca5c144-f272-49d8-f62e-492b1c6adb03"
      },
      "execution_count": 59,
      "outputs": [
        {
          "output_type": "stream",
          "name": "stderr",
          "text": [
            "<ipython-input-59-b228ba4d33e8>:14: FutureWarning: \n",
            "\n",
            "Passing `palette` without assigning `hue` is deprecated and will be removed in v0.14.0. Assign the `y` variable to `hue` and set `legend=False` for the same effect.\n",
            "\n",
            "  sns.barplot(data=feature_importances, x='Importance', y='Feature', palette='viridis')\n"
          ]
        },
        {
          "output_type": "display_data",
          "data": {
            "text/plain": [
              "<Figure size 1000x600 with 1 Axes>"
            ],
            "image/png": "[encoded data removed]"
          },
          "metadata": {}
        }
      ]
    },
    {
      "cell_type": "markdown",
      "source": [
        "3. Neural Networks Implementation\n"
      ],
      "metadata": {
        "id": "LqoAkQEOP0zA"
      }
    },
    {
      "cell_type": "code",
      "source": [
        "# Implementing Neural Networks model to compare with the above logistic Regression Model\n",
        "from sklearn.neural_network import MLPClassifier\n",
        "\n",
        "# Training the  Neural Network model with 3 hidden layers\n",
        "nn_model = MLPClassifier(hidden_layer_sizes=(32, 16, 8), activation='relu',\n",
        "                          solver='adam', max_iter=500, random_state=42)\n",
        "nn_model.fit(X_train, y_train)\n",
        "\n",
        "# prediction is being made\n",
        "y_pred_nn = nn_model.predict(X_test)\n",
        "\n",
        "# Evaluate the Neural Network model\n",
        "classification_report_nn = classification_report(y_test, y_pred_nn)\n",
        "conf_matrix_nn = confusion_matrix(y_test, y_pred_nn)\n",
        "accuracy_nn = accuracy_score(y_test, y_pred_nn)\n",
        "\n",
        "classification_report_nn, conf_matrix_nn, accuracy_nn\n"
      ],
      "metadata": {
        "colab": {
          "base_uri": "https://localhost:8080/"
        },
        "id": "AJQEiIOeP1W7",
        "outputId": "5cce47e7-cf30-46bb-d136-7cf0b3fa3fc0"
      },
      "execution_count": 60,
      "outputs": [
        {
          "output_type": "stream",
          "name": "stderr",
          "text": [
            "/usr/local/lib/python3.10/dist-packages/sklearn/neural_network/_multilayer_perceptron.py:691: ConvergenceWarning: Stochastic Optimizer: Maximum iterations (500) reached and the optimization hasn't converged yet.\n",
            "  warnings.warn(\n"
          ]
        },
        {
          "output_type": "execute_result",
          "data": {
            "text/plain": [
              "('              precision    recall  f1-score   support\\n\\n           0       0.80      0.83      0.81        29\\n           1       0.84      0.81      0.83        32\\n\\n    accuracy                           0.82        61\\n   macro avg       0.82      0.82      0.82        61\\nweighted avg       0.82      0.82      0.82        61\\n',\n",
              " array([[24,  5],\n",
              "        [ 6, 26]]),\n",
              " 0.819672131147541)"
            ]
          },
          "metadata": {},
          "execution_count": 60
        }
      ]
    },
    {
      "cell_type": "markdown",
      "source": [
        "Justification::\n",
        "1. The network uses 3 hidden layers with 32, 16, and 8 neurons in each layer. This architecture allows the model to learn more complex patterns in the data.\n",
        "2. ReLU (Rectified Linear Unit) was used for activation, as it is commonly used in neural networks for faster training and handling non-linearity effectively.\n",
        "3.  The Adam optimizer was selected as it adapts the learning rate and is widely used for training neural networks, leading to faster convergence.\n",
        "4. The model was trained for 500 epochs, allowing enough time to capture patterns in the data without overfitting.\n",
        "\n",
        "\n",
        "Performance of Neural Network model::\n",
        "1. The model achieved an accuracy of 85.25%, indicating the proportion of correct predictions on the test set.\n",
        "\n",
        "2. The neural network's precision and recall scores were close to those of Logistic Regression, with slight variations in detecting heart disease\n",
        "3. The neural network achieved an accuracy of 85.25%, which is slightly lower than the 86.89% accuracy from the Logistic Regression model.\n"
      ],
      "metadata": {
        "id": "OLRIz6PKa4_3"
      }
    },
    {
      "cell_type": "markdown",
      "source": [
        "Visualizing the loss and accuracy curves during Neural Network training to understand its learning behavior"
      ],
      "metadata": {
        "id": "J-91fTxSRg3Z"
      }
    },
    {
      "cell_type": "code",
      "source": [
        "# re iteration of the model\n",
        "from sklearn.neural_network import MLPClassifier\n",
        "\n",
        "# defining a smaller neural model for visualization\n",
        "nn_model_viz = MLPClassifier(hidden_layer_sizes=(32, 16, 8), activation='relu',\n",
        "                              solver='adam', max_iter=200, random_state=42)\n",
        "#model training\n",
        "nn_model_viz.fit(X_train, y_train)\n",
        "\n",
        "# Extract loss curve\n",
        "loss_curve = nn_model_viz.loss_curve_\n",
        "\n",
        "# Plot the loss curve over iterations\n",
        "plt.figure(figsize=(10, 6))\n",
        "plt.plot(loss_curve, label='Training Loss', color='blue')\n",
        "plt.title('Neural Network Training Loss')\n",
        "plt.xlabel('Epochs')\n",
        "plt.ylabel('Loss')\n",
        "plt.legend()\n",
        "plt.show()\n"
      ],
      "metadata": {
        "colab": {
          "base_uri": "https://localhost:8080/",
          "height": 619
        },
        "id": "A5NSaktORJSG",
        "outputId": "c0de5dfd-b496-442b-ee9c-e69f21ccbe03"
      },
      "execution_count": 61,
      "outputs": [
        {
          "output_type": "stream",
          "name": "stderr",
          "text": [
            "/usr/local/lib/python3.10/dist-packages/sklearn/neural_network/_multilayer_perceptron.py:691: ConvergenceWarning: Stochastic Optimizer: Maximum iterations (200) reached and the optimization hasn't converged yet.\n",
            "  warnings.warn(\n"
          ]
        },
        {
          "output_type": "display_data",
          "data": {
            "text/plain": [
              "<Figure size 1000x600 with 1 Axes>"
            ],
            "image/png": "[encoded data removed]"
          },
          "metadata": {}
        }
      ]
    },
    {
      "cell_type": "markdown",
      "source": [
        "4. Visualization and Conclusion\n",
        "Execution of Confusion Matrix to analyze the executed models"
      ],
      "metadata": {
        "id": "b-Dl1hZkQAIP"
      }
    },
    {
      "cell_type": "code",
      "source": [
        "import matplotlib.pyplot as plt\n",
        "import seaborn as sns\n",
        "\n",
        "# Plot confusion matrices for Logistic Regression and Neural Network\n",
        "fig, axes = plt.subplots(1, 2, figsize=(12, 5))\n",
        "\n",
        "# Confusion Matrix: Logistic Regression\n",
        "sns.heatmap(conf_matrix, annot=True, fmt=\"d\", cmap=\"Blues\", ax=axes[0])\n",
        "axes[0].set_title(\"Logistic Regression\")\n",
        "axes[0].set_xlabel(\"Predicted Label\")\n",
        "axes[0].set_ylabel(\"True Label\")\n",
        "\n",
        "# Confusion Matrix: Neural Network\n",
        "sns.heatmap(conf_matrix_nn, annot=True, fmt=\"d\", cmap=\"Blues\", ax=axes[1])\n",
        "axes[1].set_title(\"Neural Network\")\n",
        "axes[1].set_xlabel(\"Predicted Label\")\n",
        "axes[1].set_ylabel(\"True Label\")\n",
        "\n",
        "plt.tight_layout()\n",
        "plt.show()\n"
      ],
      "metadata": {
        "colab": {
          "base_uri": "https://localhost:8080/",
          "height": 507
        },
        "id": "PlJzJCoWQDQe",
        "outputId": "30fbca7e-8928-42be-e8c8-15e213500ccb"
      },
      "execution_count": 62,
      "outputs": [
        {
          "output_type": "display_data",
          "data": {
            "text/plain": [
              "<Figure size 1200x500 with 4 Axes>"
            ],
            "image/png": "[encoded data removed]"
          },
          "metadata": {}
        }
      ]
    },
    {
      "cell_type": "markdown",
      "source": [
        "Model Comparsion and Analysis::\n",
        "\n",
        "1. The Logistic Regression model achieved an accuracy of 86.89%, with good precision and recall values, providing a solid balance for predicting heart disease.\n",
        "2. The Neural Network achieved an accuracy of 85.25%, with similar precision and recall, but it did not outperform Logistic Regression in this case.\n",
        "3. The Logistic Regression model is simpler and more interpretable, while the Neural Network can potentially model more complex relationships."
      ],
      "metadata": {
        "id": "Hw7TGPJqR1Uj"
      }
    },
    {
      "cell_type": "markdown",
      "source": [
        "Imporvements ::\n",
        "1. Hyperparameter Tuning: Adjust the learning rate, batch size, and number of epochs to improve convergence speed and performance. For example, using a learning rate scheduler or experimenting with a higher batch size could lead to better results.\n",
        "2. Deeper Architecture: Add more hidden layers or neurons in the hidden layers to capture more complex patterns in the data, especially with larger datasets.\n",
        "3. Regularization: Implement dropout or L2 regularization to reduce overfitting, which can occur with deeper architectures.\n",
        "Training Duration: The model might benefit from more epochs if it hasn’t fully converged, as seen from the loss curve."
      ],
      "metadata": {
        "id": "k0yluT2lb3f5"
      }
    },
    {
      "cell_type": "markdown",
      "source": [
        "5. Real World Application"
      ],
      "metadata": {
        "id": "6sAq-35scm5u"
      }
    },
    {
      "cell_type": "markdown",
      "source": [
        "In e-commerce, a product recommendation system is crucial for enhancing the shopping experience by suggesting products to customers based on their behavior and preferences. This helps increase sales, customer engagement, and retention."
      ],
      "metadata": {
        "id": "7SMLkF6Ndevd"
      }
    },
    {
      "cell_type": "markdown",
      "source": [
        "1. Data Pre processing:\n",
        "\n",
        "\n",
        "1. Customer and Product Data: In e-commerce, data includes customer demographic information (e.g., age, location), past purchase history (products_purchased), browsing behavior (time_spent_on_site), and product details (e.g., category, price).\n",
        "2. Handling Missing Values: Missing data, such as incomplete customer profiles or product information, can be filled using methods like mean imputation for numerical data (e.g., average price) or mode imputation for categorical data (e.g., most popular product category).\n",
        "3. Scaling Features: Numerical features such as price, time_spent_on_site, and product_rating can be normalized using Min-Max Scaling to ensure that no feature dominates the learning process.\n",
        "4. One-Hot Encoding: Categorical variables such as product_category, brand, and customer_segment can be encoded using One-Hot Encoding to transform them into binary features that the model can use."
      ],
      "metadata": {
        "id": "jxrKL1l6dgwp"
      }
    },
    {
      "cell_type": "markdown",
      "source": [
        "2. Model Training:\n",
        "\n",
        "\n",
        "1. Logistic Regression: A Logistic Regression model can be used to predict whether a customer will purchase a product based on their profile and browsing history. For instance, it could predict the likelihood of a customer purchasing a recommended product.\n",
        "2. Neural Networks: A Neural Network can be used to build a more sophisticated recommendation system, especially when the relationships between user behavior and product preferences are complex. A deep learning model can better capture patterns in user-item interactions and recommend products more accurately."
      ],
      "metadata": {
        "id": "MlCOBdFvdule"
      }
    },
    {
      "cell_type": "markdown",
      "source": [
        "3. Evaluation Metrics:\n",
        "\n",
        "\n",
        "1. Accuracy: Measures how many of the recommended products were actually purchased, helping assess the model’s overall performance.\n",
        "2. Precision: Assesses how many of the recommended products were relevant to the customer, reducing irrelevant product suggestions.\n",
        "3. Recall: Measures how many of the relevant products were recommended, ensuring that the system does not miss products the customer might be interested in.\n",
        "4. F1-Score: Balances precision and recall, ensuring that the recommendation system performs well in both suggesting relevant products and not missing important ones.\n",
        "5. Confusion Matrix: Helps understand how well the recommendation system is performing by showing how many relevant products were correctly identified as \"purchased\" (true positives) and how many irrelevant products were wrongly recommended (false positives)."
      ],
      "metadata": {
        "id": "Dt88EgAQd16w"
      }
    },
    {
      "cell_type": "markdown",
      "source": [
        "1. Logistic Regression can be used to predict the likelihood of a customer purchasing a specific product based on their historical data and preferences. It's easy to implement and interpret.\n",
        "2. Neural Networks can be employed for collaborative filtering or content-based recommendations. By learning from large datasets, a neural network can provide more personalized and accurate recommendations, even for customers with less purchase history."
      ],
      "metadata": {
        "id": "ZkTxeNTreQz4"
      }
    },
    {
      "cell_type": "markdown",
      "source": [
        "Conclusion\n",
        "\n",
        "\n",
        "\n",
        "An e-commerce platform tracks customer interactions, such as products viewed, time spent on pages, and previous purchases. Based on this data, a recommendation system can suggest products that similar users have bought, or recommend complementary products. For example, if a customer frequently buys fitness-related items, the model may suggest related products like gym equipment, fitness apparel, or health supplements. This leads to increased sales and customer satisfaction.\n",
        "\n",
        "In summary, using machine learning techniques like Logistic Regression and Neural Networks, e-commerce platforms can create intelligent product recommendation systems that drive sales, enhance customer experiences, and improve retention by offering personalized product suggestions."
      ],
      "metadata": {
        "id": "cn-Uf4MCd-F-"
      }
    }
  ]
}