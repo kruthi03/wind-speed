{
  "nbformat": 4,
  "nbformat_minor": 0,
  "metadata": {
    "colab": {
      "provenance": [],
      "authorship_tag": "ABX9TyNWtWw30HQgcF4NQXlkMQnI",
      "include_colab_link": true
    },
    "kernelspec": {
      "name": "python3",
      "display_name": "Python 3"
    },
    "language_info": {
      "name": "python"
    }
  },
  "cells": [
    {
      "cell_type": "markdown",
      "metadata": {
        "id": "view-in-github",
        "colab_type": "text"
      },
      "source": [
        "<a href=\"https://colab.research.google.com/github/kruthi03/wind-speed/blob/Stats%26ML/100001319_Exercise_4_Kruthika_P.ipynb\" target=\"_parent\"><img src=\"https://colab.research.google.com/assets/colab-badge.svg\" alt=\"Open In Colab\"/></a>"
      ]
    },
    {
      "cell_type": "code",
      "source": [
        "import pandas as pd\n",
        "import seaborn as sns\n",
        "import matplotlib.pyplot as plt"
      ],
      "metadata": {
        "id": "Y-i4scRJuqok"
      },
      "execution_count": null,
      "outputs": []
    },
    {
      "cell_type": "code",
      "execution_count": null,
      "metadata": {
        "colab": {
          "base_uri": "https://localhost:8080/"
        },
        "id": "bPLaZRRKupxR",
        "outputId": "3c8d357c-b17f-4458-ea7e-7db3ae0edc32"
      },
      "outputs": [
        {
          "output_type": "stream",
          "name": "stdout",
          "text": [
            "   PassengerId  Survived  Pclass  \\\n",
            "0            1         0       3   \n",
            "1            2         1       1   \n",
            "2            3         1       3   \n",
            "3            4         1       1   \n",
            "4            5         0       3   \n",
            "\n",
            "                                                Name     Sex   Age  SibSp  \\\n",
            "0                            Braund, Mr. Owen Harris    male  22.0      1   \n",
            "1  Cumings, Mrs. John Bradley (Florence Briggs Th...  female  38.0      1   \n",
            "2                             Heikkinen, Miss. Laina  female  26.0      0   \n",
            "3       Futrelle, Mrs. Jacques Heath (Lily May Peel)  female  35.0      1   \n",
            "4                           Allen, Mr. William Henry    male  35.0      0   \n",
            "\n",
            "   Parch            Ticket     Fare Cabin Embarked  \n",
            "0      0         A/5 21171   7.2500   NaN        S  \n",
            "1      0          PC 17599  71.2833   C85        C  \n",
            "2      0  STON/O2. 3101282   7.9250   NaN        S  \n",
            "3      0            113803  53.1000  C123        S  \n",
            "4      0            373450   8.0500   NaN        S  \n"
          ]
        }
      ],
      "source": [
        "url = \"https://raw.githubusercontent.com/datasciencedojo/datasets/master/titanic.csv\"\n",
        "df = pd.read_csv(url)\n",
        "\n",
        "# Display the first few rows\n",
        "print(data.head())"
      ]
    },
    {
      "cell_type": "markdown",
      "source": [
        "Handling missing values"
      ],
      "metadata": {
        "id": "FG7Kxe4JxLhv"
      }
    },
    {
      "cell_type": "code",
      "source": [
        "missing_values = df.isnull().sum() # Change 'df' to 'data'\n",
        "print(missing_values)"
      ],
      "metadata": {
        "colab": {
          "base_uri": "https://localhost:8080/"
        },
        "id": "jj09RtRGvQDU",
        "outputId": "9e7b9417-c273-41d9-98c7-b6f46a16f903"
      },
      "execution_count": null,
      "outputs": [
        {
          "output_type": "stream",
          "name": "stdout",
          "text": [
            "PassengerId      0\n",
            "Survived         0\n",
            "Pclass           0\n",
            "Name             0\n",
            "Sex              0\n",
            "Age            177\n",
            "SibSp            0\n",
            "Parch            0\n",
            "Ticket           0\n",
            "Fare             0\n",
            "Cabin          687\n",
            "Embarked         2\n",
            "dtype: int64\n"
          ]
        }
      ]
    },
    {
      "cell_type": "markdown",
      "source": [
        "Standardization (Z-score) and Normalization (Min-Max Scaling)"
      ],
      "metadata": {
        "id": "v6grwK0JxR7G"
      }
    },
    {
      "cell_type": "code",
      "source": [
        "# Impute Age with the median\n",
        "df['Age'].fillna(df['Age'].median(), inplace=True)\n",
        "\n",
        "# Impute Embarked with the mode\n",
        "df['Embarked'].fillna(df['Embarked'].mode()[0], inplace=True)\n"
      ],
      "metadata": {
        "colab": {
          "base_uri": "https://localhost:8080/"
        },
        "id": "dylPUKkPv2zB",
        "outputId": "fb5f963e-f986-42a2-8f6c-986a15424bae"
      },
      "execution_count": null,
      "outputs": [
        {
          "output_type": "stream",
          "name": "stderr",
          "text": [
            "<ipython-input-7-af115de9a1b2>:2: FutureWarning: A value is trying to be set on a copy of a DataFrame or Series through chained assignment using an inplace method.\n",
            "The behavior will change in pandas 3.0. This inplace method will never work because the intermediate object on which we are setting values always behaves as a copy.\n",
            "\n",
            "For example, when doing 'df[col].method(value, inplace=True)', try using 'df.method({col: value}, inplace=True)' or df[col] = df[col].method(value) instead, to perform the operation inplace on the original object.\n",
            "\n",
            "\n",
            "  df['Age'].fillna(df['Age'].median(), inplace=True)\n",
            "<ipython-input-7-af115de9a1b2>:5: FutureWarning: A value is trying to be set on a copy of a DataFrame or Series through chained assignment using an inplace method.\n",
            "The behavior will change in pandas 3.0. This inplace method will never work because the intermediate object on which we are setting values always behaves as a copy.\n",
            "\n",
            "For example, when doing 'df[col].method(value, inplace=True)', try using 'df.method({col: value}, inplace=True)' or df[col] = df[col].method(value) instead, to perform the operation inplace on the original object.\n",
            "\n",
            "\n",
            "  df['Embarked'].fillna(df['Embarked'].mode()[0], inplace=True)\n"
          ]
        }
      ]
    },
    {
      "cell_type": "code",
      "source": [
        "from sklearn.preprocessing import StandardScaler\n",
        "scaler = StandardScaler()\n",
        "df[['Age', 'Fare']] = scaler.fit_transform(df[['Age', 'Fare']])\n"
      ],
      "metadata": {
        "id": "XzWFFbP7v6wM"
      },
      "execution_count": null,
      "outputs": []
    },
    {
      "cell_type": "code",
      "source": [
        "from sklearn.preprocessing import MinMaxScaler\n",
        "min_max_scaler = MinMaxScaler()\n",
        "df[['Age', 'Fare']] = min_max_scaler.fit_transform(df[['Age', 'Fare']])\n"
      ],
      "metadata": {
        "id": "PZrutBcYv8iP"
      },
      "execution_count": null,
      "outputs": []
    },
    {
      "cell_type": "markdown",
      "source": [
        "Handling Noise\n",
        "Injecting Random Noise and Removing It"
      ],
      "metadata": {
        "id": "q6sqew03xVd8"
      }
    },
    {
      "cell_type": "code",
      "source": [
        "import numpy as np\n",
        "noise = np.random.normal(0, 1, size=df['Age'].shape)\n",
        "df['Age'] += noise"
      ],
      "metadata": {
        "id": "prUTsDX7v-_B"
      },
      "execution_count": null,
      "outputs": []
    },
    {
      "cell_type": "code",
      "source": [
        "df['Age'] = df['Age'].rolling(window=3, min_periods=1).mean()\n"
      ],
      "metadata": {
        "id": "hk_ZN0PmwA1f"
      },
      "execution_count": null,
      "outputs": []
    },
    {
      "cell_type": "code",
      "source": [
        "df['Age'] = df['Age'].rolling(window=3, min_periods=1).mean()\n"
      ],
      "metadata": {
        "id": "pKhhVh92wCi5"
      },
      "execution_count": null,
      "outputs": []
    },
    {
      "cell_type": "markdown",
      "source": [
        "Handling Outliers\n",
        "Detecting Outliers Using Z-score"
      ],
      "metadata": {
        "id": "nHPGLmhGxZTi"
      }
    },
    {
      "cell_type": "code",
      "source": [
        "from scipy.stats import zscore\n",
        "df['Age_zscore'] = zscore(df['Age'])\n",
        "outliers = df[df['Age_zscore'].abs() > 3]\n",
        "print(outliers)\n"
      ],
      "metadata": {
        "colab": {
          "base_uri": "https://localhost:8080/"
        },
        "id": "fyZXlb8hwFCw",
        "outputId": "0df273c5-ff4a-4c3c-f5cc-5775beabf449"
      },
      "execution_count": null,
      "outputs": [
        {
          "output_type": "stream",
          "name": "stdout",
          "text": [
            "     PassengerId  Survived  Pclass  \\\n",
            "160          161         0       3   \n",
            "161          162         1       2   \n",
            "\n",
            "                                                  Name     Sex       Age  \\\n",
            "160                           Cribb, Mr. John Hatfield    male -1.138499   \n",
            "161  Watt, Mrs. James (Elizabeth \"Bessie\" Inglis Mi...  female -1.209618   \n",
            "\n",
            "     SibSp  Parch      Ticket      Fare Cabin Embarked  Age_zscore  \n",
            "160      0      1      371362  0.031425   NaN        S   -3.047263  \n",
            "161      0      0  C.A. 33595  0.030742   NaN        S   -3.191119  \n"
          ]
        }
      ]
    },
    {
      "cell_type": "code",
      "source": [
        "df = df[df['Age_zscore'].abs() <= 3]\n"
      ],
      "metadata": {
        "id": "3BUCUI9GwHir"
      },
      "execution_count": null,
      "outputs": []
    },
    {
      "cell_type": "code",
      "source": [
        "df['Age'] = np.log1p(df['Age'])\n"
      ],
      "metadata": {
        "id": "7J5hG_VSwKet"
      },
      "execution_count": null,
      "outputs": []
    },
    {
      "cell_type": "markdown",
      "source": [
        "Feature Selection\n",
        "\n",
        "Correlation Matrix"
      ],
      "metadata": {
        "id": "p1Wi5lWZxeX_"
      }
    },
    {
      "cell_type": "code",
      "source": [
        "# Select only numeric columns before calculating correlation\n",
        "numeric_df = df.select_dtypes(include=['number'])\n",
        "\n",
        "# Calculate the correlation matrix\n",
        "correlation_matrix = numeric_df.corr()\n",
        "\n",
        "# Print the correlation with 'Survived'\n",
        "print(correlation_matrix['Survived'].sort_values(ascending=False))"
      ],
      "metadata": {
        "colab": {
          "base_uri": "https://localhost:8080/"
        },
        "id": "HLJdnC3AwMct",
        "outputId": "b6657eac-1429-4825-df43-6b306c0610cf"
      },
      "execution_count": null,
      "outputs": [
        {
          "output_type": "stream",
          "name": "stdout",
          "text": [
            "Survived       1.000000\n",
            "Fare           0.257845\n",
            "Parch          0.083125\n",
            "PassengerId   -0.004428\n",
            "Age_zscore    -0.028646\n",
            "Age           -0.032761\n",
            "SibSp         -0.035120\n",
            "Pclass        -0.337801\n",
            "Name: Survived, dtype: float64\n"
          ]
        }
      ]
    },
    {
      "cell_type": "markdown",
      "source": [
        "Mutual Information"
      ],
      "metadata": {
        "id": "KjeBotIzxtD2"
      }
    },
    {
      "cell_type": "code",
      "source": [
        "from sklearn.feature_selection import mutual_info_classif\n",
        "mi = mutual_info_classif(df.drop('Survived', axis=1), df['Survived'])\n",
        "print(mi)"
      ],
      "metadata": {
        "colab": {
          "base_uri": "https://localhost:8080/"
        },
        "id": "ZkEXK05Bxr6Z",
        "outputId": "902cf417-dc13-4b85-df65-f9d496c5c29e"
      },
      "execution_count": null,
      "outputs": [
        {
          "output_type": "stream",
          "name": "stdout",
          "text": [
            "[0.01299782 0.07250748 0.00221798 0.16156632 0.         0.00963223\n",
            " 0.03342491 0.11721202 0.13585057 0.04709909 0.01595091 0.        ]\n"
          ]
        }
      ]
    },
    {
      "cell_type": "markdown",
      "source": [
        "Wrapper Methods\n",
        "Recursive Feature Elimination\n",
        "Backward Elimination\n"
      ],
      "metadata": {
        "id": "tEa6Zcvexy53"
      }
    },
    {
      "cell_type": "code",
      "source": [
        "from sklearn.feature_selection import RFE\n",
        "from sklearn.linear_model import LogisticRegression\n",
        "from sklearn.preprocessing import LabelEncoder\n",
        "\n",
        "# Create a LabelEncoder object\n",
        "le = LabelEncoder()\n",
        "\n",
        "# Select only object (string) columns for encoding\n",
        "object_cols = df.select_dtypes(include=['object']).columns\n",
        "\n",
        "# Apply Label Encoding to each object column\n",
        "for col in object_cols:\n",
        "    df[col] = le.fit_transform(df[col])\n",
        "\n",
        "# Create the model and RFE object\n",
        "model = LogisticRegression()\n",
        "rfe = RFE(estimator=model, n_features_to_select=5)\n",
        "\n",
        "# Fit the RFE object to the transformed data\n",
        "fit = rfe.fit(df.drop('Survived', axis=1), df['Survived'])\n",
        "\n",
        "# Print the results\n",
        "print(fit.support_)\n",
        "print(fit.ranking_)"
      ],
      "metadata": {
        "colab": {
          "base_uri": "https://localhost:8080/"
        },
        "id": "-Bn8MjBTwZ58",
        "outputId": "1013f70f-a142-468b-9dc1-e565921a075a"
      },
      "execution_count": null,
      "outputs": [
        {
          "output_type": "stream",
          "name": "stdout",
          "text": [
            "[False  True False  True  True False False False  True False  True False]\n",
            "[6 1 7 1 1 2 4 8 1 5 1 3]\n"
          ]
        },
        {
          "output_type": "stream",
          "name": "stderr",
          "text": [
            "/usr/local/lib/python3.10/dist-packages/sklearn/linear_model/_logistic.py:469: ConvergenceWarning: lbfgs failed to converge (status=1):\n",
            "STOP: TOTAL NO. of ITERATIONS REACHED LIMIT.\n",
            "\n",
            "Increase the number of iterations (max_iter) or scale the data as shown in:\n",
            "    https://scikit-learn.org/stable/modules/preprocessing.html\n",
            "Please also refer to the documentation for alternative solver options:\n",
            "    https://scikit-learn.org/stable/modules/linear_model.html#logistic-regression\n",
            "  n_iter_i = _check_optimize_result(\n",
            "/usr/local/lib/python3.10/dist-packages/sklearn/linear_model/_logistic.py:469: ConvergenceWarning: lbfgs failed to converge (status=1):\n",
            "STOP: TOTAL NO. of ITERATIONS REACHED LIMIT.\n",
            "\n",
            "Increase the number of iterations (max_iter) or scale the data as shown in:\n",
            "    https://scikit-learn.org/stable/modules/preprocessing.html\n",
            "Please also refer to the documentation for alternative solver options:\n",
            "    https://scikit-learn.org/stable/modules/linear_model.html#logistic-regression\n",
            "  n_iter_i = _check_optimize_result(\n",
            "/usr/local/lib/python3.10/dist-packages/sklearn/linear_model/_logistic.py:469: ConvergenceWarning: lbfgs failed to converge (status=1):\n",
            "STOP: TOTAL NO. of ITERATIONS REACHED LIMIT.\n",
            "\n",
            "Increase the number of iterations (max_iter) or scale the data as shown in:\n",
            "    https://scikit-learn.org/stable/modules/preprocessing.html\n",
            "Please also refer to the documentation for alternative solver options:\n",
            "    https://scikit-learn.org/stable/modules/linear_model.html#logistic-regression\n",
            "  n_iter_i = _check_optimize_result(\n",
            "/usr/local/lib/python3.10/dist-packages/sklearn/linear_model/_logistic.py:469: ConvergenceWarning: lbfgs failed to converge (status=1):\n",
            "STOP: TOTAL NO. of ITERATIONS REACHED LIMIT.\n",
            "\n",
            "Increase the number of iterations (max_iter) or scale the data as shown in:\n",
            "    https://scikit-learn.org/stable/modules/preprocessing.html\n",
            "Please also refer to the documentation for alternative solver options:\n",
            "    https://scikit-learn.org/stable/modules/linear_model.html#logistic-regression\n",
            "  n_iter_i = _check_optimize_result(\n"
          ]
        }
      ]
    },
    {
      "cell_type": "markdown",
      "source": [
        "Lasso Regression"
      ],
      "metadata": {
        "id": "L82ETKTSx45J"
      }
    },
    {
      "cell_type": "code",
      "source": [
        "from sklearn.linear_model import Lasso\n",
        "lasso = Lasso(alpha=0.01)\n",
        "lasso.fit(df.drop('Survived', axis=1), df['Survived'])\n",
        "print(lasso.coef_)\n"
      ],
      "metadata": {
        "colab": {
          "base_uri": "https://localhost:8080/"
        },
        "id": "vcgf345Xwx6Z",
        "outputId": "cdfaf8d1-145e-4e11-963d-03d02c1dcd32"
      },
      "execution_count": null,
      "outputs": [
        {
          "output_type": "stream",
          "name": "stdout",
          "text": [
            "[ 1.43290184e-06 -1.04513666e-01 -6.44892819e-05 -4.73641267e-01\n",
            " -0.00000000e+00 -1.98853088e-02 -0.00000000e+00 -1.49233926e-04\n",
            "  0.00000000e+00 -7.81378408e-04 -2.96687881e-02 -3.90042000e-03]\n"
          ]
        }
      ]
    }
  ]
}